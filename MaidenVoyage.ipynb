{
 "cells": [
  {
   "cell_type": "code",
   "execution_count": 3,
   "metadata": {},
   "outputs": [],
   "source": [
    "from riotwatcher import LolWatcher, ApiError\n",
    "import pandas as pd\n",
    "from standard_functions import getAPI"
   ]
  },
  {
   "cell_type": "markdown",
   "metadata": {},
   "source": [
    "Do not ever put API's in your repositories. I have mine in a local file and call it here."
   ]
  },
  {
   "cell_type": "code",
   "execution_count": 4,
   "metadata": {},
   "outputs": [],
   "source": [
    "myApi = getAPI()\n",
    "lol_watcher = LolWatcher(myApi)\n",
    "\n",
    "region = 'na1'\n",
    "match_id = 'NA1_4286956599'"
   ]
  },
  {
   "cell_type": "markdown",
   "metadata": {},
   "source": [
    "I use these functions to get the match_id."
   ]
  },
  {
   "cell_type": "code",
   "execution_count": 26,
   "metadata": {},
   "outputs": [],
   "source": [
    "def get_puuid(name):\n",
    "    \"\"\"\n",
    "    Input is summoner name. Outputs players puuid.\n",
    "    \"\"\"\n",
    "    return lol_watcher.summoner.by_name(region, name)['puuid']\n",
    "def get_matchlist(name):\n",
    "    \"\"\"\n",
    "    Input is name. Output is list of matches.\n",
    "    \"\"\"\n",
    "    return lol_watcher.match.matchlist_by_puuid(region, get_puuid(name), count=100, type='ranked')\n",
    "def get_match(match_id):\n",
    "    return lol_watcher.match.by_id(region, match_id)"
   ]
  },
  {
   "cell_type": "markdown",
   "metadata": {},
   "source": [
    "These functions were a bit harder to come up with. Although each individual one is pretty simple, going through and figuring out how to summarize each game to a row can be tricky. "
   ]
  },
  {
   "cell_type": "code",
   "execution_count": 27,
   "metadata": {},
   "outputs": [],
   "source": [
    "def get_duration(match):\n",
    "    return {'gameDuration' : match['info']['gameDuration']}\n",
    "\n",
    "def get_objectives(match):\n",
    "    obj = match['info']['teams'][0]['objectives']\n",
    "    new = {}\n",
    "    for k in obj:\n",
    "        for key in obj[k]:\n",
    "            new[k+'_'+key] = obj[k][key]\n",
    "    return new\n",
    "\n",
    "def get_win(match):\n",
    "    return {'win' : match['info']['teams'][0]['win']}\n"
   ]
  },
  {
   "cell_type": "code",
   "execution_count": 28,
   "metadata": {},
   "outputs": [
    {
     "data": {
      "text/html": [
       "<div>\n",
       "<style scoped>\n",
       "    .dataframe tbody tr th:only-of-type {\n",
       "        vertical-align: middle;\n",
       "    }\n",
       "\n",
       "    .dataframe tbody tr th {\n",
       "        vertical-align: top;\n",
       "    }\n",
       "\n",
       "    .dataframe thead th {\n",
       "        text-align: right;\n",
       "    }\n",
       "</style>\n",
       "<table border=\"1\" class=\"dataframe\">\n",
       "  <thead>\n",
       "    <tr style=\"text-align: right;\">\n",
       "      <th></th>\n",
       "      <th>baron_first</th>\n",
       "      <th>baron_kills</th>\n",
       "      <th>champion_first</th>\n",
       "      <th>champion_kills</th>\n",
       "      <th>dragon_first</th>\n",
       "      <th>dragon_kills</th>\n",
       "      <th>inhibitor_first</th>\n",
       "      <th>inhibitor_kills</th>\n",
       "      <th>riftHerald_first</th>\n",
       "      <th>riftHerald_kills</th>\n",
       "      <th>tower_first</th>\n",
       "      <th>tower_kills</th>\n",
       "      <th>win</th>\n",
       "    </tr>\n",
       "  </thead>\n",
       "  <tbody>\n",
       "    <tr>\n",
       "      <th>0</th>\n",
       "      <td>True</td>\n",
       "      <td>1</td>\n",
       "      <td>True</td>\n",
       "      <td>41</td>\n",
       "      <td>False</td>\n",
       "      <td>0</td>\n",
       "      <td>False</td>\n",
       "      <td>0</td>\n",
       "      <td>True</td>\n",
       "      <td>1</td>\n",
       "      <td>False</td>\n",
       "      <td>5</td>\n",
       "      <td>False</td>\n",
       "    </tr>\n",
       "  </tbody>\n",
       "</table>\n",
       "</div>"
      ],
      "text/plain": [
       "   baron_first  baron_kills  champion_first  champion_kills  dragon_first  \\\n",
       "0         True            1            True              41         False   \n",
       "\n",
       "   dragon_kills  inhibitor_first  inhibitor_kills  riftHerald_first  \\\n",
       "0             0            False                0              True   \n",
       "\n",
       "   riftHerald_kills  tower_first  tower_kills    win  \n",
       "0                 1        False            5  False  "
      ]
     },
     "execution_count": 28,
     "metadata": {},
     "output_type": "execute_result"
    }
   ],
   "source": [
    "match = get_match(match_id)\n",
    "data = get_objectives(match)\n",
    "data.update(get_win(match))\n",
    "pd.DataFrame([data])"
   ]
  },
  {
   "cell_type": "code",
   "execution_count": 16,
   "metadata": {},
   "outputs": [
    {
     "data": {
      "text/plain": [
       "dict_keys(['gameCreation', 'gameDuration', 'gameEndTimestamp', 'gameId', 'gameMode', 'gameName', 'gameStartTimestamp', 'gameType', 'gameVersion', 'mapId', 'participants', 'platformId', 'queueId', 'teams', 'tournamentCode'])"
      ]
     },
     "execution_count": 16,
     "metadata": {},
     "output_type": "execute_result"
    }
   ],
   "source": [
    "match['info']['participants'][0].keys()"
   ]
  },
  {
   "cell_type": "code",
   "execution_count": 29,
   "metadata": {},
   "outputs": [
    {
     "data": {
      "text/plain": [
       "{'assists': 11,\n",
       " 'baronKills': 0,\n",
       " 'bountyLevel': 0,\n",
       " 'challenges': {'12AssistStreakCount': 0,\n",
       "  'abilityUses': 208,\n",
       "  'acesBefore15Minutes': 0,\n",
       "  'alliedJungleMonsterKills': 2,\n",
       "  'baronTakedowns': 1,\n",
       "  'blastConeOppositeOpponentCount': 0,\n",
       "  'bountyGold': 0,\n",
       "  'buffsStolen': 0,\n",
       "  'completeSupportQuestInTime': 0,\n",
       "  'controlWardTimeCoverageInRiverOrEnemyHalf': 0.18260364271342508,\n",
       "  'controlWardsPlaced': 2,\n",
       "  'damagePerMinute': 372.0216369218776,\n",
       "  'damageTakenOnTeamPercentage': 0.1915849203921449,\n",
       "  'dancedWithRiftHerald': 0,\n",
       "  'deathsByEnemyChamps': 8,\n",
       "  'dodgeSkillShotsSmallWindow': 44,\n",
       "  'doubleAces': 0,\n",
       "  'dragonTakedowns': 0,\n",
       "  'earliestBaron': 1382.9942794950232,\n",
       "  'earlyLaningPhaseGoldExpAdvantage': -0.19972527027130127,\n",
       "  'effectiveHealAndShielding': 0,\n",
       "  'elderDragonKillsWithOpposingSoul': 0,\n",
       "  'elderDragonMultikills': 0,\n",
       "  'enemyChampionImmobilizations': 34,\n",
       "  'enemyJungleMonsterKills': 0,\n",
       "  'epicMonsterKillsNearEnemyJungler': 0,\n",
       "  'epicMonsterKillsWithin30SecondsOfSpawn': 0,\n",
       "  'epicMonsterSteals': 0,\n",
       "  'epicMonsterStolenWithoutSmite': 0,\n",
       "  'flawlessAces': 0,\n",
       "  'fullTeamTakedown': 0,\n",
       "  'gameLength': 1905.671039031194,\n",
       "  'getTakedownsInAllLanesEarlyJungleAsLaner': 0,\n",
       "  'goldPerMinute': 321.7203042125962,\n",
       "  'hadAfkTeammate': 0,\n",
       "  'hadOpenNexus': 0,\n",
       "  'immobilizeAndKillWithAlly': 5,\n",
       "  'initialBuffCount': 0,\n",
       "  'initialCrabCount': 0,\n",
       "  'jungleCsBefore10Minutes': 0,\n",
       "  'junglerTakedownsNearDamagedEpicMonster': 0,\n",
       "  'kTurretsDestroyedBeforePlatesFall': 0,\n",
       "  'kda': 1.375,\n",
       "  'killAfterHiddenWithAlly': 0,\n",
       "  'killParticipation': 0.18032786885245902,\n",
       "  'killedChampTookFullTeamDamageSurvived': 0,\n",
       "  'killsNearEnemyTurret': 0,\n",
       "  'killsOnOtherLanesEarlyJungleAsLaner': 0,\n",
       "  'killsOnRecentlyHealedByAramPack': 0,\n",
       "  'killsUnderOwnTurret': 0,\n",
       "  'killsWithHelpFromEpicMonster': 0,\n",
       "  'knockEnemyIntoTeamAndKill': 1,\n",
       "  'landSkillShotsEarlyGame': 0,\n",
       "  'laneMinionsFirst10Minutes': 62,\n",
       "  'laningPhaseGoldExpAdvantage': -0.20282429456710815,\n",
       "  'legendaryCount': 0,\n",
       "  'lostAnInhibitor': 0,\n",
       "  'maxCsAdvantageOnLaneOpponent': 16,\n",
       "  'maxKillDeficit': 0,\n",
       "  'maxLevelLeadLaneOpponent': 1,\n",
       "  'moreEnemyJungleThanOpponent': -123.50000002980232,\n",
       "  'multiKillOneSpell': 0,\n",
       "  'multiTurretRiftHeraldCount': 0,\n",
       "  'multikills': 0,\n",
       "  'multikillsAfterAggressiveFlash': 0,\n",
       "  'mythicItemUsed': 7004,\n",
       "  'outerTurretExecutesBefore10Minutes': 0,\n",
       "  'outnumberedKills': 0,\n",
       "  'outnumberedNexusKill': 0,\n",
       "  'perfectDragonSoulsTaken': 0,\n",
       "  'perfectGame': 0,\n",
       "  'pickKillWithAlly': 11,\n",
       "  'poroExplosions': 0,\n",
       "  'quickCleanse': 0,\n",
       "  'quickFirstTurret': 0,\n",
       "  'quickSoloKills': 0,\n",
       "  'riftHeraldTakedowns': 0,\n",
       "  'saveAllyFromDeath': 0,\n",
       "  'scuttleCrabKills': 0,\n",
       "  'skillshotsDodged': 12,\n",
       "  'skillshotsHit': 26,\n",
       "  'snowballsHit': 0,\n",
       "  'soloBaronKills': 0,\n",
       "  'soloKills': 0,\n",
       "  'soloTurretsLategame': 3,\n",
       "  'stealthWardsPlaced': 7,\n",
       "  'survivedSingleDigitHpCount': 0,\n",
       "  'survivedThreeImmobilizesInFight': 0,\n",
       "  'takedownOnFirstTurret': 0,\n",
       "  'takedowns': 11,\n",
       "  'takedownsAfterGainingLevelAdvantage': 0,\n",
       "  'takedownsBeforeJungleMinionSpawn': 0,\n",
       "  'takedownsFirst25Minutes': 6,\n",
       "  'takedownsInAlcove': 0,\n",
       "  'takedownsInEnemyFountain': 0,\n",
       "  'teamBaronKills': 1,\n",
       "  'teamDamagePercentage': 0.1002999167313832,\n",
       "  'teamElderDragonKills': 0,\n",
       "  'teamRiftHeraldKills': 1,\n",
       "  'threeWardsOneSweeperCount': 0,\n",
       "  'tookLargeDamageSurvived': 0,\n",
       "  'turretPlatesTaken': 2,\n",
       "  'turretTakedowns': 1,\n",
       "  'turretsTakenWithRiftHerald': 5,\n",
       "  'twentyMinionsIn3SecondsCount': 0,\n",
       "  'unseenRecalls': 0,\n",
       "  'visionScoreAdvantageLaneOpponent': 1.1455416679382324,\n",
       "  'visionScorePerMinute': 0.9328394717637174,\n",
       "  'wardTakedowns': 4,\n",
       "  'wardTakedownsBefore20M': 1,\n",
       "  'wardsGuarded': 0},\n",
       " 'champExperience': 14744,\n",
       " 'champLevel': 16,\n",
       " 'championId': 516,\n",
       " 'championName': 'Ornn',\n",
       " 'championTransform': 0,\n",
       " 'consumablesPurchased': 3,\n",
       " 'damageDealtToBuildings': 3746,\n",
       " 'damageDealtToObjectives': 7812,\n",
       " 'damageDealtToTurrets': 3746,\n",
       " 'damageSelfMitigated': 38903,\n",
       " 'deaths': 8,\n",
       " 'detectorWardsPlaced': 2,\n",
       " 'doubleKills': 0,\n",
       " 'dragonKills': 0,\n",
       " 'eligibleForProgression': True,\n",
       " 'firstBloodAssist': False,\n",
       " 'firstBloodKill': False,\n",
       " 'firstTowerAssist': False,\n",
       " 'firstTowerKill': False,\n",
       " 'gameEndedInEarlySurrender': False,\n",
       " 'gameEndedInSurrender': False,\n",
       " 'goldEarned': 10218,\n",
       " 'goldSpent': 9975,\n",
       " 'individualPosition': 'TOP',\n",
       " 'inhibitorKills': 0,\n",
       " 'inhibitorTakedowns': 0,\n",
       " 'inhibitorsLost': 3,\n",
       " 'item0': 3854,\n",
       " 'item1': 7004,\n",
       " 'item2': 3121,\n",
       " 'item3': 3047,\n",
       " 'item4': 3110,\n",
       " 'item5': 2055,\n",
       " 'item6': 3364,\n",
       " 'itemsPurchased': 20,\n",
       " 'killingSprees': 0,\n",
       " 'kills': 0,\n",
       " 'lane': 'TOP',\n",
       " 'largestCriticalStrike': 0,\n",
       " 'largestKillingSpree': 0,\n",
       " 'largestMultiKill': 0,\n",
       " 'longestTimeSpentLiving': 802,\n",
       " 'magicDamageDealt': 47745,\n",
       " 'magicDamageDealtToChampions': 6811,\n",
       " 'magicDamageTaken': 3935,\n",
       " 'neutralMinionsKilled': 2,\n",
       " 'nexusKills': 0,\n",
       " 'nexusLost': 1,\n",
       " 'nexusTakedowns': 0,\n",
       " 'objectivesStolen': 0,\n",
       " 'objectivesStolenAssists': 0,\n",
       " 'participantId': 1,\n",
       " 'pentaKills': 0,\n",
       " 'perks': {'statPerks': {'defense': 5002, 'flex': 5002, 'offense': 5005},\n",
       "  'styles': [{'description': 'primaryStyle',\n",
       "    'selections': [{'perk': 8437, 'var1': 726, 'var2': 581, 'var3': 0},\n",
       "     {'perk': 8446, 'var1': 2077, 'var2': 0, 'var3': 0},\n",
       "     {'perk': 8473, 'var1': 963, 'var2': 0, 'var3': 0},\n",
       "     {'perk': 8451, 'var1': 223, 'var2': 0, 'var3': 0}],\n",
       "    'style': 8400},\n",
       "   {'description': 'subStyle',\n",
       "    'selections': [{'perk': 8304, 'var1': 10, 'var2': 3, 'var3': 0},\n",
       "     {'perk': 8345, 'var1': 3, 'var2': 0, 'var3': 0}],\n",
       "    'style': 8300}]},\n",
       " 'physicalDamageDealt': 46701,\n",
       " 'physicalDamageDealtToChampions': 4544,\n",
       " 'physicalDamageTaken': 21514,\n",
       " 'profileIcon': 5294,\n",
       " 'puuid': 'oOUDXEZnLJdcXhLQlPD9hPLgd0k0BKde7xFhcogb7-xNvQ--M_ZOIM94-B9Ji_J0qM8i48D1vmvVwQ',\n",
       " 'quadraKills': 0,\n",
       " 'riotIdName': '',\n",
       " 'riotIdTagline': '',\n",
       " 'role': 'SOLO',\n",
       " 'sightWardsBoughtInGame': 0,\n",
       " 'spell1Casts': 85,\n",
       " 'spell2Casts': 81,\n",
       " 'spell3Casts': 25,\n",
       " 'spell4Casts': 17,\n",
       " 'summoner1Casts': 1,\n",
       " 'summoner1Id': 12,\n",
       " 'summoner2Casts': 2,\n",
       " 'summoner2Id': 4,\n",
       " 'summonerId': 'vJnH1_tuHrL5wCN-sl7K45AjKUV3HU3YXrRlZLfakGIpLY4',\n",
       " 'summonerLevel': 384,\n",
       " 'summonerName': 'Bear King',\n",
       " 'teamEarlySurrendered': False,\n",
       " 'teamId': 100,\n",
       " 'teamPosition': 'TOP',\n",
       " 'timeCCingOthers': 26,\n",
       " 'timePlayed': 1905,\n",
       " 'totalDamageDealt': 98743,\n",
       " 'totalDamageDealtToChampions': 11815,\n",
       " 'totalDamageShieldedOnTeammates': 0,\n",
       " 'totalDamageTaken': 29148,\n",
       " 'totalHeal': 1341,\n",
       " 'totalHealsOnTeammates': 0,\n",
       " 'totalMinionsKilled': 152,\n",
       " 'totalTimeCCDealt': 389,\n",
       " 'totalTimeSpentDead': 320,\n",
       " 'totalUnitsHealed': 1,\n",
       " 'tripleKills': 0,\n",
       " 'trueDamageDealt': 4296,\n",
       " 'trueDamageDealtToChampions': 460,\n",
       " 'trueDamageTaken': 3699,\n",
       " 'turretKills': 1,\n",
       " 'turretTakedowns': 1,\n",
       " 'turretsLost': 10,\n",
       " 'unrealKills': 0,\n",
       " 'visionScore': 29,\n",
       " 'visionWardsBoughtInGame': 3,\n",
       " 'wardsKilled': 4,\n",
       " 'wardsPlaced': 9,\n",
       " 'win': False}"
      ]
     },
     "execution_count": 29,
     "metadata": {},
     "output_type": "execute_result"
    }
   ],
   "source": [
    "match['info']['participants'][0]"
   ]
  },
  {
   "cell_type": "code",
   "execution_count": null,
   "metadata": {},
   "outputs": [],
   "source": [
    "sum_keys = ['assists', 'visionScore', 'visionWardsBoughtInGame', 'wardsKilled', 'wardsPlaced']\n",
    "for i in match['info']['participants']:\n",
    "    pass"
   ]
  },
  {
   "cell_type": "code",
   "execution_count": 39,
   "metadata": {},
   "outputs": [],
   "source": [
    "summoners = ['Zealfire', 'SmurfHD', 'DumbAmerican', 'About 10 Inches', 'Exprience', 'Leaders1', \n",
    "             'Kehlee', 'KybitOW', 'DodoMuncher', 'Mango Bleach']"
   ]
  },
  {
   "cell_type": "code",
   "execution_count": 4,
   "metadata": {
    "scrolled": true
   },
   "outputs": [
    {
     "data": {
      "text/plain": [
       "['NA1_4348171334',\n",
       " 'NA1_4289259129',\n",
       " 'NA1_4287742329',\n",
       " 'NA1_4287694201',\n",
       " 'NA1_4287648113',\n",
       " 'NA1_4286956599',\n",
       " 'NA1_4286785334',\n",
       " 'NA1_4286667294',\n",
       " 'NA1_4285375587',\n",
       " 'NA1_4285360882',\n",
       " 'NA1_4285334783',\n",
       " 'NA1_4285247595',\n",
       " 'NA1_4284641450',\n",
       " 'NA1_4284573748',\n",
       " 'NA1_4282617016',\n",
       " 'NA1_4282651208',\n",
       " 'NA1_4282568419',\n",
       " 'NA1_4282560428',\n",
       " 'NA1_4279275380',\n",
       " 'NA1_4279290874',\n",
       " 'NA1_4272162489',\n",
       " 'NA1_4270474097',\n",
       " 'NA1_4270373912',\n",
       " 'NA1_4270325535',\n",
       " 'NA1_4270310445',\n",
       " 'NA1_4269678873',\n",
       " 'NA1_4269623819',\n",
       " 'NA1_4265939472',\n",
       " 'NA1_4265052963',\n",
       " 'NA1_4265007120',\n",
       " 'NA1_4265011466',\n",
       " 'NA1_4264596019',\n",
       " 'NA1_4264558755',\n",
       " 'NA1_4263428731',\n",
       " 'NA1_4262510186',\n",
       " 'NA1_4262424973',\n",
       " 'NA1_4259122335',\n",
       " 'NA1_4259076750',\n",
       " 'NA1_4258616238',\n",
       " 'NA1_4257716745',\n",
       " 'NA1_4251471488',\n",
       " 'NA1_4248601449',\n",
       " 'NA1_4248509505',\n",
       " 'NA1_4247935338',\n",
       " 'NA1_4243646495',\n",
       " 'NA1_4242625676',\n",
       " 'NA1_4242377491',\n",
       " 'NA1_4242051531',\n",
       " 'NA1_4241728549',\n",
       " 'NA1_4241732889',\n",
       " 'NA1_4240856758',\n",
       " 'NA1_4240829863',\n",
       " 'NA1_4239866975',\n",
       " 'NA1_4239483955',\n",
       " 'NA1_4239371148',\n",
       " 'NA1_4239356146',\n",
       " 'NA1_4236826656',\n",
       " 'NA1_4236657270',\n",
       " 'NA1_4236561460',\n",
       " 'NA1_4236372924',\n",
       " 'NA1_4236351019',\n",
       " 'NA1_4234919674',\n",
       " 'NA1_4234943834',\n",
       " 'NA1_4234172320',\n",
       " 'NA1_4234098265',\n",
       " 'NA1_4232440783',\n",
       " 'NA1_4232042964',\n",
       " 'NA1_4231988565',\n",
       " 'NA1_4230977447',\n",
       " 'NA1_4230972293',\n",
       " 'NA1_4229763958',\n",
       " 'NA1_4229544248',\n",
       " 'NA1_4229534279',\n",
       " 'NA1_4228662513',\n",
       " 'NA1_4228634418',\n",
       " 'NA1_4215542159',\n",
       " 'NA1_4215537713',\n",
       " 'NA1_4215524056',\n",
       " 'NA1_4215075407',\n",
       " 'NA1_4213674593',\n",
       " 'NA1_4213617974',\n",
       " 'NA1_4213539679',\n",
       " 'NA1_4212627702',\n",
       " 'NA1_4209230371',\n",
       " 'NA1_4209172399',\n",
       " 'NA1_4209076101',\n",
       " 'NA1_4207882893',\n",
       " 'NA1_4207838311',\n",
       " 'NA1_4207769192',\n",
       " 'NA1_4207741472',\n",
       " 'NA1_4207392070',\n",
       " 'NA1_4205217788',\n",
       " 'NA1_4205177137',\n",
       " 'NA1_4205151290',\n",
       " 'NA1_4205073122',\n",
       " 'NA1_4205025589',\n",
       " 'NA1_4204946319',\n",
       " 'NA1_4204952025',\n",
       " 'NA1_4201495248',\n",
       " 'NA1_4201430413']"
      ]
     },
     "execution_count": 4,
     "metadata": {},
     "output_type": "execute_result"
    }
   ],
   "source": [
    "get_matchlist('Zealfire')"
   ]
  },
  {
   "cell_type": "code",
   "execution_count": 6,
   "metadata": {},
   "outputs": [
    {
     "data": {
      "text/html": [
       "<div>\n",
       "<style scoped>\n",
       "    .dataframe tbody tr th:only-of-type {\n",
       "        vertical-align: middle;\n",
       "    }\n",
       "\n",
       "    .dataframe tbody tr th {\n",
       "        vertical-align: top;\n",
       "    }\n",
       "\n",
       "    .dataframe thead th {\n",
       "        text-align: right;\n",
       "    }\n",
       "</style>\n",
       "<table border=\"1\" class=\"dataframe\">\n",
       "  <thead>\n",
       "    <tr style=\"text-align: right;\">\n",
       "      <th></th>\n",
       "      <th>gameCreation</th>\n",
       "      <th>gameDuration</th>\n",
       "      <th>gameEndTimestamp</th>\n",
       "      <th>gameId</th>\n",
       "      <th>gameMode</th>\n",
       "      <th>gameName</th>\n",
       "      <th>gameStartTimestamp</th>\n",
       "      <th>gameType</th>\n",
       "      <th>gameVersion</th>\n",
       "      <th>mapId</th>\n",
       "      <th>participants</th>\n",
       "      <th>platformId</th>\n",
       "      <th>queueId</th>\n",
       "      <th>teams</th>\n",
       "      <th>tournamentCode</th>\n",
       "    </tr>\n",
       "  </thead>\n",
       "  <tbody>\n",
       "    <tr>\n",
       "      <th>0</th>\n",
       "      <td>1643938709000</td>\n",
       "      <td>1555</td>\n",
       "      <td>1643940333289</td>\n",
       "      <td>4205025589</td>\n",
       "      <td>CLASSIC</td>\n",
       "      <td>teambuilder-match-4205025589</td>\n",
       "      <td>1643938777865</td>\n",
       "      <td>MATCHED_GAME</td>\n",
       "      <td>12.3.421.5967</td>\n",
       "      <td>11</td>\n",
       "      <td>[{'assists': 3, 'baronKills': 0, 'bountyLevel'...</td>\n",
       "      <td>NA1</td>\n",
       "      <td>420</td>\n",
       "      <td>[{'bans': [{'championId': 223, 'pickTurn': 1},...</td>\n",
       "      <td></td>\n",
       "    </tr>\n",
       "  </tbody>\n",
       "</table>\n",
       "</div>"
      ],
      "text/plain": [
       "    gameCreation  gameDuration  gameEndTimestamp      gameId gameMode  \\\n",
       "0  1643938709000          1555     1643940333289  4205025589  CLASSIC   \n",
       "\n",
       "                       gameName  gameStartTimestamp      gameType  \\\n",
       "0  teambuilder-match-4205025589       1643938777865  MATCHED_GAME   \n",
       "\n",
       "     gameVersion  mapId                                       participants  \\\n",
       "0  12.3.421.5967     11  [{'assists': 3, 'baronKills': 0, 'bountyLevel'...   \n",
       "\n",
       "  platformId  queueId                                              teams  \\\n",
       "0        NA1      420  [{'bans': [{'championId': 223, 'pickTurn': 1},...   \n",
       "\n",
       "  tournamentCode  \n",
       "0                 "
      ]
     },
     "execution_count": 6,
     "metadata": {},
     "output_type": "execute_result"
    }
   ],
   "source": [
    "pd.DataFrame([lol_watcher.match.by_id(region, 'NA1_4205025589')['info']])"
   ]
  },
  {
   "cell_type": "code",
   "execution_count": null,
   "metadata": {},
   "outputs": [],
   "source": [
    "pd.DataFrame([lol_watcher.match.by_id(region, 'NA1_NA1_4205025589')['info']['participants'][0]])"
   ]
  },
  {
   "cell_type": "code",
   "execution_count": null,
   "metadata": {},
   "outputs": [],
   "source": [
    "data = lol_watcher.league.entries(region, queue='RANKED_SOLO_5x5', tier='GOLD', division='II', page=500)\n",
    "len(data)"
   ]
  },
  {
   "cell_type": "code",
   "execution_count": 25,
   "metadata": {},
   "outputs": [
    {
     "data": {
      "text/plain": [
       "dict_keys(['gameCreation', 'gameDuration', 'gameEndTimestamp', 'gameId', 'gameMode', 'gameName', 'gameStartTimestamp', 'gameType', 'gameVersion', 'mapId', 'participants', 'platformId', 'queueId', 'teams', 'tournamentCode'])"
      ]
     },
     "execution_count": 25,
     "metadata": {},
     "output_type": "execute_result"
    }
   ],
   "source": [
    "lol_watcher.match.by_id(region, 'NA1_4205025589')['info'].keys()"
   ]
  },
  {
   "cell_type": "code",
   "execution_count": 26,
   "metadata": {},
   "outputs": [
    {
     "data": {
      "text/plain": [
       "{'bans': [{'championId': 223, 'pickTurn': 1},\n",
       "  {'championId': 25, 'pickTurn': 2},\n",
       "  {'championId': 84, 'pickTurn': 3},\n",
       "  {'championId': 81, 'pickTurn': 4},\n",
       "  {'championId': 38, 'pickTurn': 5}],\n",
       " 'objectives': {'baron': {'first': False, 'kills': 0},\n",
       "  'champion': {'first': False, 'kills': 20},\n",
       "  'dragon': {'first': False, 'kills': 0},\n",
       "  'inhibitor': {'first': False, 'kills': 0},\n",
       "  'riftHerald': {'first': False, 'kills': 0},\n",
       "  'tower': {'first': False, 'kills': 2}},\n",
       " 'teamId': 100,\n",
       " 'win': False}"
      ]
     },
     "execution_count": 26,
     "metadata": {},
     "output_type": "execute_result"
    }
   ],
   "source": [
    "lol_watcher.match.by_id(region, 'NA1_4205025589')['info']['teams'][0]"
   ]
  },
  {
   "cell_type": "code",
   "execution_count": null,
   "metadata": {},
   "outputs": [],
   "source": [
    "lol_watcher.match.by_id(region, 'NA1_4205025589')['info']['teams'][0]['objectives'].keys()"
   ]
  },
  {
   "cell_type": "code",
   "execution_count": null,
   "metadata": {},
   "outputs": [],
   "source": [
    "pd.DataFrame(lol_watcher.match.by_id(region, 'NA1_4205025589')['info']['teams'][0]['objectives'])"
   ]
  },
  {
   "cell_type": "code",
   "execution_count": null,
   "metadata": {},
   "outputs": [],
   "source": [
    "pd.DataFrame(lol_watcher.match.timeline_by_match(region, 'NA1_4205025589')['info']['frames'])"
   ]
  },
  {
   "cell_type": "code",
   "execution_count": null,
   "metadata": {},
   "outputs": [],
   "source": [
    "pd.DataFrame.rename()"
   ]
  },
  {
   "cell_type": "code",
   "execution_count": 50,
   "metadata": {},
   "outputs": [],
   "source": [
    "obj = lol_watcher.match.by_id(region, match_id)['info']['teams'][0]['objectives']"
   ]
  },
  {
   "cell_type": "code",
   "execution_count": 51,
   "metadata": {},
   "outputs": [
    {
     "data": {
      "text/plain": [
       "{'baron': {'first': True, 'kills': 1},\n",
       " 'champion': {'first': True, 'kills': 41},\n",
       " 'dragon': {'first': False, 'kills': 0},\n",
       " 'inhibitor': {'first': False, 'kills': 0},\n",
       " 'riftHerald': {'first': True, 'kills': 1},\n",
       " 'tower': {'first': False, 'kills': 5}}"
      ]
     },
     "execution_count": 51,
     "metadata": {},
     "output_type": "execute_result"
    }
   ],
   "source": [
    "obj"
   ]
  },
  {
   "cell_type": "code",
   "execution_count": null,
   "metadata": {},
   "outputs": [],
   "source": []
  }
 ],
 "metadata": {
  "kernelspec": {
   "display_name": "Python 3",
   "language": "python",
   "name": "python3"
  },
  "language_info": {
   "codemirror_mode": {
    "name": "ipython",
    "version": 3
   },
   "file_extension": ".py",
   "mimetype": "text/x-python",
   "name": "python",
   "nbconvert_exporter": "python",
   "pygments_lexer": "ipython3",
   "version": "3.8.5"
  }
 },
 "nbformat": 4,
 "nbformat_minor": 4
}
