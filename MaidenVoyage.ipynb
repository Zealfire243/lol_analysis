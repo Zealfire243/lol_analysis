{
 "cells": [
  {
   "cell_type": "code",
   "execution_count": 1,
   "metadata": {},
   "outputs": [],
   "source": [
    "from riotwatcher import LolWatcher, ApiError\n",
    "import pandas as pd\n",
    "from standard_functions import getAPI"
   ]
  },
  {
   "cell_type": "markdown",
   "metadata": {},
   "source": [
    "Here are my early helper functions I set up for ease of access to lol_watcher and its uses. "
   ]
  },
  {
   "cell_type": "code",
   "execution_count": 15,
   "metadata": {},
   "outputs": [],
   "source": [
    "def get_puuid(name):\n",
    "    \"\"\"\n",
    "    Input is summoner name. Outputs players puuid.\n",
    "    \"\"\"\n",
    "    return lol_watcher.summoner.by_name(region, name)['puuid']\n",
    "def get_matchlist(name):\n",
    "    \"\"\"\n",
    "    Input is summoner name. Output is a list of the 100 most recent ranked matches for that summoner.\n",
    "    \"\"\"\n",
    "    return lol_watcher.match.matchlist_by_puuid(region, get_puuid(name), count=100, type='ranked')\n",
    "def get_match(match_id):\n",
    "    '''\n",
    "    Helper function that allows every other get function to not need to call the lol_watcher everytime it runs.\n",
    "    '''\n",
    "    return lol_watcher.match.by_id(region, match_id)"
   ]
  },
  {
   "cell_type": "markdown",
   "metadata": {},
   "source": [
    "Do not ever put API's in your repositories. I have mine in a local file and call it here.\n",
    "\n",
    "I also have my region defaulted to 'na1' and my match_id set to one of my own personal games for testing. "
   ]
  },
  {
   "cell_type": "code",
   "execution_count": 3,
   "metadata": {},
   "outputs": [],
   "source": [
    "myApi = getAPI()\n",
    "lol_watcher = LolWatcher(myApi)"
   ]
  },
  {
   "cell_type": "code",
   "execution_count": 4,
   "metadata": {},
   "outputs": [],
   "source": [
    "region = 'na1'\n",
    "match_id = 'NA1_4286956599'\n",
    "match = get_match(match_id)"
   ]
  },
  {
   "cell_type": "markdown",
   "metadata": {},
   "source": [
    "Here is my first look into what I will be working with. It is how a match comes straight from the API without any cleaning or tinkering. At first glance it is a bit overwhelming, but with patenince I can help break it down."
   ]
  },
  {
   "cell_type": "code",
   "execution_count": null,
   "metadata": {
    "scrolled": true
   },
   "outputs": [],
   "source": [
    "match"
   ]
  },
  {
   "cell_type": "markdown",
   "metadata": {},
   "source": [
    "Here are the functions that make up the main part of my pipeline. The goal is to clean and consolidate each match into a single row for a Pandas DataFrame. I explain how I came up with these lower if you are interested. "
   ]
  },
  {
   "cell_type": "code",
   "execution_count": 66,
   "metadata": {},
   "outputs": [],
   "source": [
    "def get_duration(match):\n",
    "    '''\n",
    "    Uses a match from get_match to find the games duration and returns a tiny dictionary. \n",
    "    '''\n",
    "    return {'gameDuration' : match['info']['gameDuration']}\n",
    "\n",
    "def get_win(match):\n",
    "    '''\n",
    "    Uses a match from get_match to return whether or not the team we are analyzing won. \n",
    "    '''\n",
    "    return {'win' : match['info']['teams'][0]['win']}\n",
    "\n",
    "def get_team_objectives(match):\n",
    "    '''\n",
    "    Uses a match from get_match to flatten a teams objectives for use in a DataFrame.\n",
    "    Returns a dictionary of team objectives.\n",
    "    '''\n",
    "    obj = match['info']['teams'][0]['objectives']\n",
    "    new = {}\n",
    "    for k in obj:\n",
    "        for key in obj[k]:\n",
    "            new[k+'_'+key] = obj[k][key]\n",
    "    return new\n",
    "\n",
    "def get_avgs(match):\n",
    "    '''\n",
    "    Uses a match from get_match to consolidate the 5 participants from the team we are analyzing to one average.\n",
    "    Returns a dictionary of averaged out statistics pertaining to team 1. \n",
    "    '''\n",
    "    avg_keys = ['kills', 'deaths', 'assists', 'champLevel', 'champExperience', 'doubleKills', 'tripleKills', 'quadraKills', \n",
    "            'pentaKills','consumablesPurchased', 'damageDealtToBuildings',\n",
    "            'damageDealtToObjectives', 'damageSelfMitigated', 'detectorWardsPlaced', 'timePlayed',\n",
    "            'goldEarned', 'goldSpent', 'inhibitorKills', 'itemsPurchased', 'largestKillingSpree', 'killingSprees',\n",
    "            'longestTimeSpentLiving', 'magicDamageDealt','magicDamageDealtToChampions', 'magicDamageTaken',\n",
    "            'physicalDamageDealt', 'physicalDamageDealtToChampions', 'physicalDamageTaken', 'totalDamageDealt',\n",
    "            'totalDamageDealtToChampions', 'totalDamageShieldedOnTeammates', 'totalDamageTaken', \n",
    "            'trueDamageDealt', 'trueDamageDealtToChampions', 'trueDamageTaken',\n",
    "            'totalHeal', 'totalHealsOnTeammates', 'totalMinionsKilled', 'totalTimeCCDealt', 'totalTimeSpentDead',\n",
    "            'turretKills', 'turretsLost', 'neutralMinionsKilled', 'objectivesStolen', 'objectivesStolenAssists', \n",
    "            'visionScore','visionWardsBoughtInGame', 'wardsKilled', 'wardsPlaced']\n",
    "    new = {}\n",
    "    for i in match['info']['participants']:\n",
    "        if i['teamId'] == 100:\n",
    "            for j in avg_keys:\n",
    "                try:\n",
    "                    new['avg'+j[0].upper()+j[1:]] += i[j]\n",
    "                except:\n",
    "                    new['avg'+j[0].upper()+j[1:]] = i[j]\n",
    "    new.update((k, round(v * 0.2, 3)) for k,v in new.items())\n",
    "    return new\n",
    "\n",
    "def get_challenges(match):\n",
    "    '''\n",
    "     Uses a match from get_match to consolidate the 5 participants challenges and average them out.\n",
    "     Returns a dictionary of all the challanges averages for team 1. \n",
    "    '''\n",
    "    chal_keys = ['abilityUses', 'acesBefore15Minutes', 'alliedJungleMonsterKills', 'baronTakedowns', \n",
    "                 'blastConeOppositeOpponentCount', 'bountyGold', 'buffsStolen', 'damagePerMinute', \n",
    "                 'deathsByEnemyChamps', 'dodgeSkillShotsSmallWindow','dragonTakedowns', \n",
    "                 'earlyLaningPhaseGoldExpAdvantage', 'laningPhaseGoldExpAdvantage', 'effectiveHealAndShielding',\n",
    "                 'enemyChampionImmobilizations', 'enemyJungleMonsterKills', 'epicMonsterSteals',\n",
    "                 'goldPerMinute','jungleCsBefore10Minutes', 'kda', 'killParticipation', 'killsNearEnemyTurret',\n",
    "                 'killsUnderOwnTurret', 'killsWithHelpFromEpicMonster', 'knockEnemyIntoTeamAndKill', \n",
    "                 'maxKillDeficit', 'maxLevelLeadLaneOpponent', 'multikills', 'outnumberedKills', \n",
    "                 'pickKillWithAlly', 'riftHeraldTakedowns','scuttleCrabKills', 'skillshotsDodged', \n",
    "                 'skillshotsHit', 'soloKills', 'soloTurretsLategame', 'takedowns',\n",
    "                 'takedownsAfterGainingLevelAdvantage', 'takedownsBeforeJungleMinionSpawn', \n",
    "                 'tookLargeDamageSurvived','turretPlatesTaken', 'turretTakedowns',\n",
    "                 'turretsTakenWithRiftHerald', 'visionScoreAdvantageLaneOpponent','visionScorePerMinute',\n",
    "                 'wardTakedownsBefore20M', 'wardsGuarded']\n",
    "    new = {}\n",
    "    for i in match['info']['participants']:\n",
    "        if i['teamId'] == 100:\n",
    "            for j in chal_keys:\n",
    "                    try:\n",
    "                        new['avg'+j[0].upper()+j[1:]] += i['challenges'][j]\n",
    "                    except:\n",
    "                        new['avg'+j[0].upper()+j[1:]] = i['challenges'][j]\n",
    "    new.update((k, round(v * 0.2, 4)) for k,v in new.items())\n",
    "    return new\n",
    "\n",
    "def get_row(match_id):\n",
    "    ''' \n",
    "    Puts everything together into a single row for a new DataFrame\n",
    "    '''\n",
    "    match = get_match(match_id)\n",
    "    data = {}\n",
    "    data.update(get_avgs(match))\n",
    "    data.update(get_challenges(match))\n",
    "    data.update(get_team_objectives(match))\n",
    "    data.update(get_duration(match))\n",
    "    data.update(get_win(match))\n",
    "    return data"
   ]
  },
  {
   "cell_type": "markdown",
   "metadata": {},
   "source": [
    "I test each new function with the cell below and check the DataFrame ising `.info()`"
   ]
  },
  {
   "cell_type": "code",
   "execution_count": 43,
   "metadata": {},
   "outputs": [
    {
     "name": "stdout",
     "output_type": "stream",
     "text": [
      "<class 'pandas.core.frame.DataFrame'>\n",
      "RangeIndex: 1 entries, 0 to 0\n",
      "Data columns (total 63 columns):\n",
      " #   Column                             Non-Null Count  Dtype  \n",
      "---  ------                             --------------  -----  \n",
      " 0   baron_first                        1 non-null      bool   \n",
      " 1   baron_kills                        1 non-null      int64  \n",
      " 2   champion_first                     1 non-null      bool   \n",
      " 3   champion_kills                     1 non-null      int64  \n",
      " 4   dragon_first                       1 non-null      bool   \n",
      " 5   dragon_kills                       1 non-null      int64  \n",
      " 6   inhibitor_first                    1 non-null      bool   \n",
      " 7   inhibitor_kills                    1 non-null      int64  \n",
      " 8   riftHerald_first                   1 non-null      bool   \n",
      " 9   riftHerald_kills                   1 non-null      int64  \n",
      " 10  tower_first                        1 non-null      bool   \n",
      " 11  tower_kills                        1 non-null      int64  \n",
      " 12  win                                1 non-null      bool   \n",
      " 13  gameDuration                       1 non-null      int64  \n",
      " 14  avgKills                           1 non-null      float64\n",
      " 15  avgDeaths                          1 non-null      float64\n",
      " 16  avgAssists                         1 non-null      float64\n",
      " 17  avgChampLevel                      1 non-null      float64\n",
      " 18  avgChampExperience                 1 non-null      float64\n",
      " 19  avgDoubleKills                     1 non-null      float64\n",
      " 20  avgTripleKills                     1 non-null      float64\n",
      " 21  avgQuadraKills                     1 non-null      float64\n",
      " 22  avgPentaKills                      1 non-null      float64\n",
      " 23  avgConsumablesPurchased            1 non-null      float64\n",
      " 24  avgDamageDealtToBuildings          1 non-null      float64\n",
      " 25  avgDamageDealtToObjectives         1 non-null      float64\n",
      " 26  avgDamageSelfMitigated             1 non-null      float64\n",
      " 27  avgDetectorWardsPlaced             1 non-null      float64\n",
      " 28  avgTimePlayed                      1 non-null      float64\n",
      " 29  avgGoldEarned                      1 non-null      float64\n",
      " 30  avgGoldSpent                       1 non-null      float64\n",
      " 31  avgInhibitorKills                  1 non-null      float64\n",
      " 32  avgItemsPurchased                  1 non-null      float64\n",
      " 33  avgLargestKillingSpree             1 non-null      float64\n",
      " 34  avgKillingSprees                   1 non-null      float64\n",
      " 35  avgLongestTimeSpentLiving          1 non-null      float64\n",
      " 36  avgMagicDamageDealt                1 non-null      float64\n",
      " 37  avgMagicDamageDealtToChampions     1 non-null      float64\n",
      " 38  avgMagicDamageTaken                1 non-null      float64\n",
      " 39  avgPhysicalDamageDealt             1 non-null      float64\n",
      " 40  avgPhysicalDamageDealtToChampions  1 non-null      float64\n",
      " 41  avgPhysicalDamageTaken             1 non-null      float64\n",
      " 42  avgTotalDamageDealt                1 non-null      float64\n",
      " 43  avgTotalDamageDealtToChampions     1 non-null      float64\n",
      " 44  avgTotalDamageShieldedOnTeammates  1 non-null      float64\n",
      " 45  avgTotalDamageTaken                1 non-null      float64\n",
      " 46  avgTrueDamageDealt                 1 non-null      float64\n",
      " 47  avgTrueDamageDealtToChampions      1 non-null      float64\n",
      " 48  avgTrueDamageTaken                 1 non-null      float64\n",
      " 49  avgTotalHeal                       1 non-null      float64\n",
      " 50  avgTotalHealsOnTeammates           1 non-null      float64\n",
      " 51  avgTotalMinionsKilled              1 non-null      float64\n",
      " 52  avgTotalTimeCCDealt                1 non-null      float64\n",
      " 53  avgTotalTimeSpentDead              1 non-null      float64\n",
      " 54  avgTurretKills                     1 non-null      float64\n",
      " 55  avgTurretsLost                     1 non-null      float64\n",
      " 56  avgNeutralMinionsKilled            1 non-null      float64\n",
      " 57  avgObjectivesStolen                1 non-null      float64\n",
      " 58  avgObjectivesStolenAssists         1 non-null      float64\n",
      " 59  avgVisionScore                     1 non-null      float64\n",
      " 60  avgVisionWardsBoughtInGame         1 non-null      float64\n",
      " 61  avgWardsKilled                     1 non-null      float64\n",
      " 62  avgWardsPlaced                     1 non-null      float64\n",
      "dtypes: bool(7), float64(49), int64(7)\n",
      "memory usage: 583.0 bytes\n"
     ]
    }
   ],
   "source": [
    "data = get_team_objectives(match)\n",
    "data.update(get_win(match))\n",
    "data.update(get_duration(match))\n",
    "data.update(get_avgs(match))\n",
    "data = pd.DataFrame([data])\n",
    "data.info()"
   ]
  },
  {
   "cell_type": "markdown",
   "metadata": {},
   "source": [
    "This is a list of my friends and their summoner names. I plan on using this to generate games to analyze. But for now, its useless."
   ]
  },
  {
   "cell_type": "code",
   "execution_count": 39,
   "metadata": {},
   "outputs": [],
   "source": [
    "summoners = ['Zealfire', 'SmurfHD', 'DumbAmerican', 'About 10 Inches', 'Exprience', 'Leaders1', \n",
    "             'Kehlee', 'KybitOW', 'DodoMuncher', 'Mango Bleach']"
   ]
  },
  {
   "cell_type": "markdown",
   "metadata": {},
   "source": [
    "This is where things get a little hairer so stick with me. If we take a look at the keys to a match, we only get `'metadata'` and `'info'`. So lets take a look. "
   ]
  },
  {
   "cell_type": "code",
   "execution_count": 37,
   "metadata": {},
   "outputs": [
    {
     "data": {
      "text/plain": [
       "dict_keys(['metadata', 'info'])"
      ]
     },
     "execution_count": 37,
     "metadata": {},
     "output_type": "execute_result"
    }
   ],
   "source": [
    "match.keys()"
   ]
  },
  {
   "cell_type": "markdown",
   "metadata": {},
   "source": [
    "As you can see there isn't a whole lost of useful information in the metadata. It tell us the matchId, which is the region and gameId combined. And it tell us the puuid's of the summoners who are playing. \n",
    "\n",
    "Info on the other hand, looks like it has all the information we are going to need. And is quite large and therefore harder to understand. "
   ]
  },
  {
   "cell_type": "code",
   "execution_count": null,
   "metadata": {},
   "outputs": [],
   "source": [
    "match['metadata'], match['info']"
   ]
  },
  {
   "cell_type": "markdown",
   "metadata": {},
   "source": [
    "I decided to try put the `match['info']` into a Pandas DataFrame to get a better idea of what I am working with. At first glance we can see that there is some useful info all ready for us, for instance gameDuration. So I first went ahead and set up a get function to grab how long the game went for. \n",
    "\n",
    "Next I noticed the participants and teams columns have lists of dictionaries and I suspect most of the data is hiding in there. "
   ]
  },
  {
   "cell_type": "code",
   "execution_count": 6,
   "metadata": {},
   "outputs": [
    {
     "data": {
      "text/html": [
       "<div>\n",
       "<style scoped>\n",
       "    .dataframe tbody tr th:only-of-type {\n",
       "        vertical-align: middle;\n",
       "    }\n",
       "\n",
       "    .dataframe tbody tr th {\n",
       "        vertical-align: top;\n",
       "    }\n",
       "\n",
       "    .dataframe thead th {\n",
       "        text-align: right;\n",
       "    }\n",
       "</style>\n",
       "<table border=\"1\" class=\"dataframe\">\n",
       "  <thead>\n",
       "    <tr style=\"text-align: right;\">\n",
       "      <th></th>\n",
       "      <th>gameCreation</th>\n",
       "      <th>gameDuration</th>\n",
       "      <th>gameEndTimestamp</th>\n",
       "      <th>gameId</th>\n",
       "      <th>gameMode</th>\n",
       "      <th>gameName</th>\n",
       "      <th>gameStartTimestamp</th>\n",
       "      <th>gameType</th>\n",
       "      <th>gameVersion</th>\n",
       "      <th>mapId</th>\n",
       "      <th>participants</th>\n",
       "      <th>platformId</th>\n",
       "      <th>queueId</th>\n",
       "      <th>teams</th>\n",
       "      <th>tournamentCode</th>\n",
       "    </tr>\n",
       "  </thead>\n",
       "  <tbody>\n",
       "    <tr>\n",
       "      <th>0</th>\n",
       "      <td>1643938709000</td>\n",
       "      <td>1555</td>\n",
       "      <td>1643940333289</td>\n",
       "      <td>4205025589</td>\n",
       "      <td>CLASSIC</td>\n",
       "      <td>teambuilder-match-4205025589</td>\n",
       "      <td>1643938777865</td>\n",
       "      <td>MATCHED_GAME</td>\n",
       "      <td>12.3.421.5967</td>\n",
       "      <td>11</td>\n",
       "      <td>[{'assists': 3, 'baronKills': 0, 'bountyLevel'...</td>\n",
       "      <td>NA1</td>\n",
       "      <td>420</td>\n",
       "      <td>[{'bans': [{'championId': 223, 'pickTurn': 1},...</td>\n",
       "      <td></td>\n",
       "    </tr>\n",
       "  </tbody>\n",
       "</table>\n",
       "</div>"
      ],
      "text/plain": [
       "    gameCreation  gameDuration  gameEndTimestamp      gameId gameMode  \\\n",
       "0  1643938709000          1555     1643940333289  4205025589  CLASSIC   \n",
       "\n",
       "                       gameName  gameStartTimestamp      gameType  \\\n",
       "0  teambuilder-match-4205025589       1643938777865  MATCHED_GAME   \n",
       "\n",
       "     gameVersion  mapId                                       participants  \\\n",
       "0  12.3.421.5967     11  [{'assists': 3, 'baronKills': 0, 'bountyLevel'...   \n",
       "\n",
       "  platformId  queueId                                              teams  \\\n",
       "0        NA1      420  [{'bans': [{'championId': 223, 'pickTurn': 1},...   \n",
       "\n",
       "  tournamentCode  \n",
       "0                 "
      ]
     },
     "execution_count": 6,
     "metadata": {},
     "output_type": "execute_result"
    }
   ],
   "source": [
    "pd.DataFrame(match['info'])"
   ]
  },
  {
   "cell_type": "markdown",
   "metadata": {},
   "source": [
    "I checked out teams first. I don't really care about which champion is being banned or when it was banned. But the rest of the info is very important. First I set up another basic get function to grab wether or not they win. And next I check out the objectives. "
   ]
  },
  {
   "cell_type": "code",
   "execution_count": 26,
   "metadata": {},
   "outputs": [
    {
     "data": {
      "text/plain": [
       "{'bans': [{'championId': 223, 'pickTurn': 1},\n",
       "  {'championId': 25, 'pickTurn': 2},\n",
       "  {'championId': 84, 'pickTurn': 3},\n",
       "  {'championId': 81, 'pickTurn': 4},\n",
       "  {'championId': 38, 'pickTurn': 5}],\n",
       " 'objectives': {'baron': {'first': False, 'kills': 0},\n",
       "  'champion': {'first': False, 'kills': 20},\n",
       "  'dragon': {'first': False, 'kills': 0},\n",
       "  'inhibitor': {'first': False, 'kills': 0},\n",
       "  'riftHerald': {'first': False, 'kills': 0},\n",
       "  'tower': {'first': False, 'kills': 2}},\n",
       " 'teamId': 100,\n",
       " 'win': False}"
      ]
     },
     "execution_count": 26,
     "metadata": {},
     "output_type": "execute_result"
    }
   ],
   "source": [
    "match['info']['teams'][0]"
   ]
  },
  {
   "cell_type": "code",
   "execution_count": 32,
   "metadata": {},
   "outputs": [
    {
     "data": {
      "text/plain": [
       "dict_keys(['baron', 'champion', 'dragon', 'inhibitor', 'riftHerald', 'tower'])"
      ]
     },
     "execution_count": 32,
     "metadata": {},
     "output_type": "execute_result"
    }
   ],
   "source": [
    "match['info']['teams'][0]['objectives'].keys()"
   ]
  },
  {
   "cell_type": "markdown",
   "metadata": {},
   "source": [
    "As you can see the objectives are very important but are not in a good format that would be easy to analyze. So we have a little work to do. "
   ]
  },
  {
   "cell_type": "code",
   "execution_count": 33,
   "metadata": {},
   "outputs": [
    {
     "data": {
      "text/plain": [
       "{'baron': {'first': True, 'kills': 1},\n",
       " 'champion': {'first': True, 'kills': 41},\n",
       " 'dragon': {'first': False, 'kills': 0},\n",
       " 'inhibitor': {'first': False, 'kills': 0},\n",
       " 'riftHerald': {'first': True, 'kills': 1},\n",
       " 'tower': {'first': False, 'kills': 5}}"
      ]
     },
     "execution_count": 33,
     "metadata": {},
     "output_type": "execute_result"
    }
   ],
   "source": [
    "obj = match['info']['teams'][0]['objectives']\n",
    "obj"
   ]
  },
  {
   "cell_type": "markdown",
   "metadata": {},
   "source": [
    "This next cell takes the original objectives and flattens it out to be a single dictionary filled with all the data we needed from this section. This way we can concat this onto a larger dictionary and build a very useful DataFrame with it. You might even recognize this cell as very similar code is now in my pipeline. "
   ]
  },
  {
   "cell_type": "code",
   "execution_count": 37,
   "metadata": {},
   "outputs": [
    {
     "data": {
      "text/plain": [
       "{'baronFirst': True,\n",
       " 'baronKills': 1,\n",
       " 'championFirst': True,\n",
       " 'championKills': 41,\n",
       " 'dragonFirst': False,\n",
       " 'dragonKills': 0,\n",
       " 'inhibitorFirst': False,\n",
       " 'inhibitorKills': 0,\n",
       " 'riftHeraldFirst': True,\n",
       " 'riftHeraldKills': 1,\n",
       " 'towerFirst': False,\n",
       " 'towerKills': 5}"
      ]
     },
     "execution_count": 37,
     "metadata": {},
     "output_type": "execute_result"
    }
   ],
   "source": [
    "new = {}\n",
    "for k in obj:\n",
    "    for key in obj[k]:\n",
    "        new[k+key.capitalize()] = obj[k][key]\n",
    "new"
   ]
  },
  {
   "cell_type": "markdown",
   "metadata": {},
   "source": [
    "My next hurdle is a big one. I need to take 5 individual team members and get the average for every continuous variable in participants. First things first, I need to take a good look at what variables are available and slowly pick which ones would be helpful for analysis. I also put the variables in a more intuitive order, similar variables by eachother etc."
   ]
  },
  {
   "cell_type": "code",
   "execution_count": 29,
   "metadata": {
    "scrolled": true
   },
   "outputs": [
    {
     "data": {
      "text/plain": [
       "dict_keys(['assists', 'baronKills', 'bountyLevel', 'challenges', 'champExperience', 'champLevel', 'championId', 'championName', 'championTransform', 'consumablesPurchased', 'damageDealtToBuildings', 'damageDealtToObjectives', 'damageDealtToTurrets', 'damageSelfMitigated', 'deaths', 'detectorWardsPlaced', 'doubleKills', 'dragonKills', 'eligibleForProgression', 'firstBloodAssist', 'firstBloodKill', 'firstTowerAssist', 'firstTowerKill', 'gameEndedInEarlySurrender', 'gameEndedInSurrender', 'goldEarned', 'goldSpent', 'individualPosition', 'inhibitorKills', 'inhibitorTakedowns', 'inhibitorsLost', 'item0', 'item1', 'item2', 'item3', 'item4', 'item5', 'item6', 'itemsPurchased', 'killingSprees', 'kills', 'lane', 'largestCriticalStrike', 'largestKillingSpree', 'largestMultiKill', 'longestTimeSpentLiving', 'magicDamageDealt', 'magicDamageDealtToChampions', 'magicDamageTaken', 'neutralMinionsKilled', 'nexusKills', 'nexusLost', 'nexusTakedowns', 'objectivesStolen', 'objectivesStolenAssists', 'participantId', 'pentaKills', 'perks', 'physicalDamageDealt', 'physicalDamageDealtToChampions', 'physicalDamageTaken', 'profileIcon', 'puuid', 'quadraKills', 'riotIdName', 'riotIdTagline', 'role', 'sightWardsBoughtInGame', 'spell1Casts', 'spell2Casts', 'spell3Casts', 'spell4Casts', 'summoner1Casts', 'summoner1Id', 'summoner2Casts', 'summoner2Id', 'summonerId', 'summonerLevel', 'summonerName', 'teamEarlySurrendered', 'teamId', 'teamPosition', 'timeCCingOthers', 'timePlayed', 'totalDamageDealt', 'totalDamageDealtToChampions', 'totalDamageShieldedOnTeammates', 'totalDamageTaken', 'totalHeal', 'totalHealsOnTeammates', 'totalMinionsKilled', 'totalTimeCCDealt', 'totalTimeSpentDead', 'totalUnitsHealed', 'tripleKills', 'trueDamageDealt', 'trueDamageDealtToChampions', 'trueDamageTaken', 'turretKills', 'turretTakedowns', 'turretsLost', 'unrealKills', 'visionScore', 'visionWardsBoughtInGame', 'wardsKilled', 'wardsPlaced', 'win'])"
      ]
     },
     "execution_count": 29,
     "metadata": {},
     "output_type": "execute_result"
    }
   ],
   "source": [
    "match['info']['participants'][0].keys()"
   ]
  },
  {
   "cell_type": "code",
   "execution_count": 30,
   "metadata": {},
   "outputs": [],
   "source": [
    "avg_keys = ['kills', 'deaths', 'assists', 'champLevel', 'champExperience', 'doubleKills', 'tripleKills', 'quadraKills', \n",
    "            'pentaKills','consumablesPurchased', 'damageDealtToBuildings',\n",
    "            'damageDealtToObjectives', 'damageSelfMitigated', 'detectorWardsPlaced', \n",
    "            'goldEarned', 'goldSpent', 'inhibitorKills', 'itemsPurchased', 'largestKillingSpree', 'killingSprees',\n",
    "            'longestTimeSpentLiving', 'magicDamageDealt','magicDamageDealtToChampions', 'magicDamageTaken',\n",
    "            'physicalDamageDealt', 'physicalDamageDealtToChampions', 'physicalDamageTaken', 'totalDamageDealt',\n",
    "            'totalDamageDealtToChampions', 'totalDamageShieldedOnTeammates', 'totalDamageTaken', \n",
    "            'trueDamageDealt', 'trueDamageDealtToChampions', 'trueDamageTaken',\n",
    "            'totalHeal', 'totalHealsOnTeammates', 'totalMinionsKilled', 'totalTimeCCDealt', 'totalTimeSpentDead',\n",
    "            'turretKills', 'turretsLost', 'neutralMinionsKilled', 'objectivesStolen', 'objectivesStolenAssists', \n",
    "            'visionScore','visionWardsBoughtInGame', 'wardsKilled', 'wardsPlaced']"
   ]
  },
  {
   "cell_type": "markdown",
   "metadata": {},
   "source": [
    "After going through and making sure I will be grabbing everything that I want. I set up the cell below to add up the values and average them out between the team. It worked exactly how I wanted it to so again I added it to my pipeline. "
   ]
  },
  {
   "cell_type": "code",
   "execution_count": 41,
   "metadata": {
    "scrolled": true
   },
   "outputs": [
    {
     "data": {
      "text/plain": [
       "{'avgKills': 8.2,\n",
       " 'avgDeaths': 12.2,\n",
       " 'avgAssists': 6.6,\n",
       " 'avgChampLevel': 16.0,\n",
       " 'avgChampExperience': 15302.8,\n",
       " 'avgDoubleKills': 1.2,\n",
       " 'avgTripleKills': 0.0,\n",
       " 'avgQuadraKills': 0.0,\n",
       " 'avgPentaKills': 0.0,\n",
       " 'avgConsumablesPurchased': 3.8,\n",
       " 'avgDamageDealtToBuildings': 2657.8,\n",
       " 'avgDamageDealtToObjectives': 9446.4,\n",
       " 'avgDamageSelfMitigated': 24171.2,\n",
       " 'avgDetectorWardsPlaced': 0.8,\n",
       " 'avgGoldEarned': 13615.2,\n",
       " 'avgGoldSpent': 12931.0,\n",
       " 'avgInhibitorKills': 0.0,\n",
       " 'avgItemsPurchased': 23.0,\n",
       " 'avgLargestKillingSpree': 2.4,\n",
       " 'avgKillingSprees': 1.6,\n",
       " 'avgLongestTimeSpentLiving': 430.4,\n",
       " 'avgMagicDamageDealt': 38503.8,\n",
       " 'avgMagicDamageDealtToChampions': 7567.6,\n",
       " 'avgMagicDamageTaken': 4398.8,\n",
       " 'avgPhysicalDamageDealt': 76610.2,\n",
       " 'avgPhysicalDamageDealtToChampions': 10587.4,\n",
       " 'avgPhysicalDamageTaken': 21295.2,\n",
       " 'avgTotalDamageDealt': 130064.8,\n",
       " 'avgTotalDamageDealtToChampions': 23560.4,\n",
       " 'avgTotalDamageShieldedOnTeammates': 0.0,\n",
       " 'avgTotalDamageTaken': 30428.6,\n",
       " 'avgTrueDamageDealt': 14950.0,\n",
       " 'avgTrueDamageDealtToChampions': 5404.6,\n",
       " 'avgTrueDamageTaken': 4734.0,\n",
       " 'avgTotalHeal': 3213.2,\n",
       " 'avgTotalHealsOnTeammates': 43.0,\n",
       " 'avgTotalMinionsKilled': 133.4,\n",
       " 'avgTotalTimeCCDealt': 251.8,\n",
       " 'avgTotalTimeSpentDead': 374.8,\n",
       " 'avgTurretKills': 1.0,\n",
       " 'avgTurretsLost': 10.0,\n",
       " 'avgNeutralMinionsKilled': 24.0,\n",
       " 'avgObjectivesStolen': 0.0,\n",
       " 'avgObjectivesStolenAssists': 0.0,\n",
       " 'avgVisionScore': 32.0,\n",
       " 'avgVisionWardsBoughtInGame': 1.6,\n",
       " 'avgWardsKilled': 4.8,\n",
       " 'avgWardsPlaced': 11.8}"
      ]
     },
     "execution_count": 41,
     "metadata": {},
     "output_type": "execute_result"
    }
   ],
   "source": [
    "new = {}\n",
    "for i in match['info']['participants']:\n",
    "    if i['teamId'] == 100:\n",
    "        for j in avg_keys:\n",
    "            try:\n",
    "                new['avg'+j[0].upper()+j[1:]] += i[j]\n",
    "            except:\n",
    "                new['avg'+j[0].upper()+j[1:]] = i[j]\n",
    "new.update((k, round(v * 0.2, 3)) for k,v in new.items())\n",
    "new"
   ]
  },
  {
   "cell_type": "markdown",
   "metadata": {},
   "source": [
    "While looking through the participants, I found that the challenges was extremely long and has a ton of information. More nit picking to make sure I get all the information I want. "
   ]
  },
  {
   "cell_type": "code",
   "execution_count": 28,
   "metadata": {
    "scrolled": true
   },
   "outputs": [
    {
     "data": {
      "text/plain": [
       "dict_keys(['12AssistStreakCount', 'abilityUses', 'acesBefore15Minutes', 'alliedJungleMonsterKills', 'baronTakedowns', 'blastConeOppositeOpponentCount', 'bountyGold', 'buffsStolen', 'completeSupportQuestInTime', 'controlWardsPlaced', 'damagePerMinute', 'damageTakenOnTeamPercentage', 'dancedWithRiftHerald', 'deathsByEnemyChamps', 'dodgeSkillShotsSmallWindow', 'doubleAces', 'dragonTakedowns', 'earliestBaron', 'earlyLaningPhaseGoldExpAdvantage', 'effectiveHealAndShielding', 'elderDragonKillsWithOpposingSoul', 'elderDragonMultikills', 'enemyChampionImmobilizations', 'enemyJungleMonsterKills', 'epicMonsterKillsNearEnemyJungler', 'epicMonsterKillsWithin30SecondsOfSpawn', 'epicMonsterSteals', 'epicMonsterStolenWithoutSmite', 'flawlessAces', 'fullTeamTakedown', 'gameLength', 'goldPerMinute', 'hadAfkTeammate', 'hadOpenNexus', 'immobilizeAndKillWithAlly', 'initialBuffCount', 'initialCrabCount', 'jungleCsBefore10Minutes', 'junglerKillsEarlyJungle', 'junglerTakedownsNearDamagedEpicMonster', 'kTurretsDestroyedBeforePlatesFall', 'kda', 'killAfterHiddenWithAlly', 'killParticipation', 'killedChampTookFullTeamDamageSurvived', 'killsNearEnemyTurret', 'killsOnLanersEarlyJungleAsJungler', 'killsOnRecentlyHealedByAramPack', 'killsUnderOwnTurret', 'killsWithHelpFromEpicMonster', 'knockEnemyIntoTeamAndKill', 'landSkillShotsEarlyGame', 'laneMinionsFirst10Minutes', 'laningPhaseGoldExpAdvantage', 'legendaryCount', 'lostAnInhibitor', 'maxCsAdvantageOnLaneOpponent', 'maxKillDeficit', 'maxLevelLeadLaneOpponent', 'moreEnemyJungleThanOpponent', 'multiKillOneSpell', 'multiTurretRiftHeraldCount', 'multikills', 'multikillsAfterAggressiveFlash', 'outerTurretExecutesBefore10Minutes', 'outnumberedKills', 'outnumberedNexusKill', 'perfectDragonSoulsTaken', 'perfectGame', 'pickKillWithAlly', 'poroExplosions', 'quickCleanse', 'quickFirstTurret', 'quickSoloKills', 'riftHeraldTakedowns', 'saveAllyFromDeath', 'scuttleCrabKills', 'skillshotsDodged', 'skillshotsHit', 'snowballsHit', 'soloBaronKills', 'soloKills', 'soloTurretsLategame', 'stealthWardsPlaced', 'survivedSingleDigitHpCount', 'survivedThreeImmobilizesInFight', 'takedownOnFirstTurret', 'takedowns', 'takedownsAfterGainingLevelAdvantage', 'takedownsBeforeJungleMinionSpawn', 'takedownsFirst25Minutes', 'takedownsInAlcove', 'takedownsInEnemyFountain', 'teamBaronKills', 'teamDamagePercentage', 'teamElderDragonKills', 'teamRiftHeraldKills', 'threeWardsOneSweeperCount', 'tookLargeDamageSurvived', 'turretPlatesTaken', 'turretTakedowns', 'turretsTakenWithRiftHerald', 'twentyMinionsIn3SecondsCount', 'unseenRecalls', 'visionScoreAdvantageLaneOpponent', 'visionScorePerMinute', 'wardTakedowns', 'wardTakedownsBefore20M', 'wardsGuarded'])"
      ]
     },
     "execution_count": 28,
     "metadata": {},
     "output_type": "execute_result"
    }
   ],
   "source": [
    "match['info']['participants'][1]['challenges'].keys()"
   ]
  },
  {
   "cell_type": "markdown",
   "metadata": {},
   "source": [
    "I noticed while looking through the challenges, that they are all different lengths. Which means I have my work cut out for me."
   ]
  },
  {
   "cell_type": "code",
   "execution_count": 25,
   "metadata": {
    "scrolled": true
   },
   "outputs": [
    {
     "name": "stdout",
     "output_type": "stream",
     "text": [
      "111\n",
      "109\n",
      "113\n",
      "111\n",
      "110\n",
      "115\n",
      "116\n",
      "113\n",
      "115\n",
      "114\n"
     ]
    }
   ],
   "source": [
    "first = match['info']['participants'][0]['challenges'].keys()\n",
    "second = match['info']['participants'][1]['challenges'].keys()\n",
    "third = match['info']['participants'][2]['challenges'].keys()\n",
    "new = {}\n",
    "for k in second:\n",
    "    new[k] = k in third\n",
    "for i in range(0,10):\n",
    "    print(len(match['info']['participants'][i]['challenges'].keys()))"
   ]
  },
  {
   "cell_type": "markdown",
   "metadata": {},
   "source": [
    "To make it a little easier to understand I put it into a DataFrame and called `.info()` again. I need to assign `verbose=True` or it wouldn't display everything I need to see. \n",
    "\n",
    "We are working with 16 floats and and 93 ints. I already notice that some of these variables should be booleans and are most likely a 1 or 0 for `True` or `False` respectively, but we will have to verify with our data. "
   ]
  },
  {
   "cell_type": "code",
   "execution_count": 22,
   "metadata": {},
   "outputs": [
    {
     "name": "stdout",
     "output_type": "stream",
     "text": [
      "<class 'pandas.core.frame.DataFrame'>\n",
      "RangeIndex: 1 entries, 0 to 0\n",
      "Data columns (total 109 columns):\n",
      " #   Column                                  Dtype  \n",
      "---  ------                                  -----  \n",
      " 0   12AssistStreakCount                     int64  \n",
      " 1   abilityUses                             int64  \n",
      " 2   acesBefore15Minutes                     int64  \n",
      " 3   alliedJungleMonsterKills                float64\n",
      " 4   baronTakedowns                          int64  \n",
      " 5   blastConeOppositeOpponentCount          int64  \n",
      " 6   bountyGold                              int64  \n",
      " 7   buffsStolen                             int64  \n",
      " 8   completeSupportQuestInTime              int64  \n",
      " 9   controlWardsPlaced                      int64  \n",
      " 10  damagePerMinute                         float64\n",
      " 11  damageTakenOnTeamPercentage             float64\n",
      " 12  dancedWithRiftHerald                    int64  \n",
      " 13  deathsByEnemyChamps                     int64  \n",
      " 14  dodgeSkillShotsSmallWindow              int64  \n",
      " 15  doubleAces                              int64  \n",
      " 16  dragonTakedowns                         int64  \n",
      " 17  earliestBaron                           float64\n",
      " 18  earlyLaningPhaseGoldExpAdvantage        float64\n",
      " 19  effectiveHealAndShielding               int64  \n",
      " 20  elderDragonKillsWithOpposingSoul        int64  \n",
      " 21  elderDragonMultikills                   int64  \n",
      " 22  enemyChampionImmobilizations            int64  \n",
      " 23  enemyJungleMonsterKills                 int64  \n",
      " 24  epicMonsterKillsNearEnemyJungler        int64  \n",
      " 25  epicMonsterKillsWithin30SecondsOfSpawn  int64  \n",
      " 26  epicMonsterSteals                       int64  \n",
      " 27  epicMonsterStolenWithoutSmite           int64  \n",
      " 28  flawlessAces                            int64  \n",
      " 29  fullTeamTakedown                        int64  \n",
      " 30  gameLength                              float64\n",
      " 31  goldPerMinute                           float64\n",
      " 32  hadAfkTeammate                          int64  \n",
      " 33  hadOpenNexus                            int64  \n",
      " 34  immobilizeAndKillWithAlly               int64  \n",
      " 35  initialBuffCount                        int64  \n",
      " 36  initialCrabCount                        int64  \n",
      " 37  jungleCsBefore10Minutes                 float64\n",
      " 38  junglerKillsEarlyJungle                 int64  \n",
      " 39  junglerTakedownsNearDamagedEpicMonster  int64  \n",
      " 40  kTurretsDestroyedBeforePlatesFall       int64  \n",
      " 41  kda                                     float64\n",
      " 42  killAfterHiddenWithAlly                 int64  \n",
      " 43  killParticipation                       float64\n",
      " 44  killedChampTookFullTeamDamageSurvived   int64  \n",
      " 45  killsNearEnemyTurret                    int64  \n",
      " 46  killsOnLanersEarlyJungleAsJungler       int64  \n",
      " 47  killsOnRecentlyHealedByAramPack         int64  \n",
      " 48  killsUnderOwnTurret                     int64  \n",
      " 49  killsWithHelpFromEpicMonster            int64  \n",
      " 50  knockEnemyIntoTeamAndKill               int64  \n",
      " 51  landSkillShotsEarlyGame                 int64  \n",
      " 52  laneMinionsFirst10Minutes               int64  \n",
      " 53  laningPhaseGoldExpAdvantage             float64\n",
      " 54  legendaryCount                          int64  \n",
      " 55  lostAnInhibitor                         int64  \n",
      " 56  maxCsAdvantageOnLaneOpponent            float64\n",
      " 57  maxKillDeficit                          int64  \n",
      " 58  maxLevelLeadLaneOpponent                int64  \n",
      " 59  moreEnemyJungleThanOpponent             float64\n",
      " 60  multiKillOneSpell                       int64  \n",
      " 61  multiTurretRiftHeraldCount              int64  \n",
      " 62  multikills                              int64  \n",
      " 63  multikillsAfterAggressiveFlash          int64  \n",
      " 64  outerTurretExecutesBefore10Minutes      int64  \n",
      " 65  outnumberedKills                        int64  \n",
      " 66  outnumberedNexusKill                    int64  \n",
      " 67  perfectDragonSoulsTaken                 int64  \n",
      " 68  perfectGame                             int64  \n",
      " 69  pickKillWithAlly                        int64  \n",
      " 70  poroExplosions                          int64  \n",
      " 71  quickCleanse                            int64  \n",
      " 72  quickFirstTurret                        int64  \n",
      " 73  quickSoloKills                          int64  \n",
      " 74  riftHeraldTakedowns                     int64  \n",
      " 75  saveAllyFromDeath                       int64  \n",
      " 76  scuttleCrabKills                        int64  \n",
      " 77  skillshotsDodged                        int64  \n",
      " 78  skillshotsHit                           int64  \n",
      " 79  snowballsHit                            int64  \n",
      " 80  soloBaronKills                          int64  \n",
      " 81  soloKills                               int64  \n",
      " 82  soloTurretsLategame                     int64  \n",
      " 83  stealthWardsPlaced                      int64  \n",
      " 84  survivedSingleDigitHpCount              int64  \n",
      " 85  survivedThreeImmobilizesInFight         int64  \n",
      " 86  takedownOnFirstTurret                   int64  \n",
      " 87  takedowns                               int64  \n",
      " 88  takedownsAfterGainingLevelAdvantage     int64  \n",
      " 89  takedownsBeforeJungleMinionSpawn        int64  \n",
      " 90  takedownsFirst25Minutes                 int64  \n",
      " 91  takedownsInAlcove                       int64  \n",
      " 92  takedownsInEnemyFountain                int64  \n",
      " 93  teamBaronKills                          int64  \n",
      " 94  teamDamagePercentage                    float64\n",
      " 95  teamElderDragonKills                    int64  \n",
      " 96  teamRiftHeraldKills                     int64  \n",
      " 97  threeWardsOneSweeperCount               int64  \n",
      " 98  tookLargeDamageSurvived                 int64  \n",
      " 99  turretPlatesTaken                       int64  \n",
      " 100 turretTakedowns                         int64  \n",
      " 101 turretsTakenWithRiftHerald              int64  \n",
      " 102 twentyMinionsIn3SecondsCount            int64  \n",
      " 103 unseenRecalls                           int64  \n",
      " 104 visionScoreAdvantageLaneOpponent        float64\n",
      " 105 visionScorePerMinute                    float64\n",
      " 106 wardTakedowns                           int64  \n",
      " 107 wardTakedownsBefore20M                  int64  \n",
      " 108 wardsGuarded                            int64  \n",
      "dtypes: float64(16), int64(93)\n",
      "memory usage: 1000.0 bytes\n"
     ]
    }
   ],
   "source": [
    "test_frame = pd.DataFrame([match['info']['participants'][1]['challenges']])\n",
    "test_frame.info(verbose=True)"
   ]
  },
  {
   "cell_type": "markdown",
   "metadata": {},
   "source": [
    "I used this to pick which variables I will be using. The list of which is below. I decieded to not use any of the booleans for the team analysis. The `not_used` portion is because not every participant has every variable and I needed to test to see which ones aren't universal. There are a lot more unused variables but these are the ones I wanted to use but can't. "
   ]
  },
  {
   "cell_type": "code",
   "execution_count": 57,
   "metadata": {},
   "outputs": [],
   "source": [
    "chal_keys = ['abilityUses', 'acesBefore15Minutes', 'alliedJungleMonsterKills', 'baronTakedowns', 'blastConeOppositeOpponentCount',\n",
    "             'bountyGold', 'buffsStolen', 'damagePerMinute', 'deathsByEnemyChamps', 'dodgeSkillShotsSmallWindow',\n",
    "             'dragonTakedowns', 'earlyLaningPhaseGoldExpAdvantage', 'laningPhaseGoldExpAdvantage', 'effectiveHealAndShielding',\n",
    "             'enemyChampionImmobilizations', 'enemyJungleMonsterKills', 'epicMonsterSteals', 'goldPerMinute',\n",
    "             'jungleCsBefore10Minutes', 'kda', 'killParticipation', 'killsNearEnemyTurret',\n",
    "             'killsUnderOwnTurret', 'killsWithHelpFromEpicMonster', 'knockEnemyIntoTeamAndKill', \n",
    "             'maxKillDeficit', 'maxLevelLeadLaneOpponent', 'multikills', 'outnumberedKills', 'pickKillWithAlly', 'riftHeraldTakedowns',\n",
    "             'scuttleCrabKills', 'skillshotsDodged', 'skillshotsHit', 'soloKills', 'soloTurretsLategame', 'takedowns',\n",
    "             'takedownsAfterGainingLevelAdvantage', 'takedownsBeforeJungleMinionSpawn', 'tookLargeDamageSurvived',\n",
    "             'turretPlatesTaken', 'turretTakedowns', 'turretsTakenWithRiftHerald', 'visionScoreAdvantageLaneOpponent',\n",
    "             'visionScorePerMinute', 'wardTakedownsBefore20M', 'wardsGuarded']\n",
    "\n",
    "not_used = ['earliestBaron', 'killsOnLanersEarlyJungleAsJungler', 'junglerKillsEarlyJungle', 'takedownsFirst25Minutes']"
   ]
  },
  {
   "cell_type": "markdown",
   "metadata": {},
   "source": [
    "This block of code looks eerily familiar, and works almost the exact same way as the one before. And after testing we can see that everything is in order. So I create a function that does the same and I am almost ready for some analysis. "
   ]
  },
  {
   "cell_type": "code",
   "execution_count": 60,
   "metadata": {},
   "outputs": [
    {
     "data": {
      "text/plain": [
       "{'avgAbilityUses': 153.8,\n",
       " 'avgAcesBefore15Minutes': 0.0,\n",
       " 'avgAlliedJungleMonsterKills': 15.76,\n",
       " 'avgBaronTakedowns': 0.6,\n",
       " 'avgBlastConeOppositeOpponentCount': 0.2,\n",
       " 'avgBountyGold': 735.0,\n",
       " 'avgBuffsStolen': 0.4,\n",
       " 'avgDamagePerMinute': 741.8184,\n",
       " 'avgDeathsByEnemyChamps': 12.2,\n",
       " 'avgDodgeSkillShotsSmallWindow': 44.0,\n",
       " 'avgDragonTakedowns': 0.0,\n",
       " 'avgEarliestBaron': 1382.9943,\n",
       " 'avgEarlyLaningPhaseGoldExpAdvantage': -0.1065,\n",
       " 'avgLaningPhaseGoldExpAdvantage': -0.0212,\n",
       " 'avgEffectiveHealAndShielding': 43.2,\n",
       " 'avgEnemyChampionImmobilizations': 13.0,\n",
       " 'avgEnemyJungleMonsterKills': 1.92,\n",
       " 'avgEpicMonsterSteals': 0.0,\n",
       " 'avgGoldPerMinute': 428.6932,\n",
       " 'avgJungleCsBefore10Minutes': 8.8,\n",
       " 'avgKda': 1.5386,\n",
       " 'avgKillParticipation': 0.2426,\n",
       " 'avgKillsNearEnemyTurret': 1.4,\n",
       " 'avgKillsUnderOwnTurret': 1.2,\n",
       " 'avgKillsWithHelpFromEpicMonster': 0.2,\n",
       " 'avgKnockEnemyIntoTeamAndKill': 0.2,\n",
       " 'avgMaxKillDeficit': 0.0,\n",
       " 'avgMaxLevelLeadLaneOpponent': 1.4,\n",
       " 'avgMultikills': 1.2,\n",
       " 'avgOutnumberedKills': 2.0,\n",
       " 'avgPickKillWithAlly': 11.4,\n",
       " 'avgRiftHeraldTakedowns': 0.2,\n",
       " 'avgScuttleCrabKills': 0.4,\n",
       " 'avgSkillshotsDodged': 13.0,\n",
       " 'avgSkillshotsHit': 27.0,\n",
       " 'avgSoloKills': 3.4,\n",
       " 'avgSoloTurretsLategame': 3.0,\n",
       " 'avgTakedowns': 14.8,\n",
       " 'avgTakedownsAfterGainingLevelAdvantage': 0.0,\n",
       " 'avgTakedownsBeforeJungleMinionSpawn': 0.6,\n",
       " 'avgTakedownsFirst25Minutes': 11.4,\n",
       " 'avgTookLargeDamageSurvived': 0.0,\n",
       " 'avgTurretPlatesTaken': 1.0,\n",
       " 'avgTurretTakedowns': 1.2,\n",
       " 'avgTurretsTakenWithRiftHerald': 5.0,\n",
       " 'avgVisionScoreAdvantageLaneOpponent': 1.1081,\n",
       " 'avgVisionScorePerMinute': 1.0256,\n",
       " 'avgWardTakedownsBefore20M': 2.4,\n",
       " 'avgWardsGuarded': 0.6}"
      ]
     },
     "execution_count": 60,
     "metadata": {},
     "output_type": "execute_result"
    }
   ],
   "source": [
    "new = {}\n",
    "for i in match['info']['participants']:\n",
    "    if i['teamId'] == 100:\n",
    "        for j in chal_keys:\n",
    "                try:\n",
    "                    new['avg'+j[0].upper()+j[1:]] += i['challenges'][j]\n",
    "                except:\n",
    "                    new['avg'+j[0].upper()+j[1:]] = i['challenges'][j]\n",
    "new.update((k, round(v * 0.2, 4)) for k,v in new.items())\n",
    "new"
   ]
  },
  {
   "cell_type": "code",
   "execution_count": 67,
   "metadata": {},
   "outputs": [
    {
     "ename": "KeyError",
     "evalue": "'earlyLaningPhaseGoldExpAdvantage'",
     "output_type": "error",
     "traceback": [
      "\u001b[1;31m---------------------------------------------------------------------------\u001b[0m",
      "\u001b[1;31mKeyError\u001b[0m                                  Traceback (most recent call last)",
      "\u001b[1;32m<ipython-input-66-3d1461f3f5ed>\u001b[0m in \u001b[0;36mget_challenges\u001b[1;34m(match)\u001b[0m\n\u001b[0;32m     75\u001b[0m                     \u001b[1;32mtry\u001b[0m\u001b[1;33m:\u001b[0m\u001b[1;33m\u001b[0m\u001b[1;33m\u001b[0m\u001b[0m\n\u001b[1;32m---> 76\u001b[1;33m                         \u001b[0mnew\u001b[0m\u001b[1;33m[\u001b[0m\u001b[1;34m'avg'\u001b[0m\u001b[1;33m+\u001b[0m\u001b[0mj\u001b[0m\u001b[1;33m[\u001b[0m\u001b[1;36m0\u001b[0m\u001b[1;33m]\u001b[0m\u001b[1;33m.\u001b[0m\u001b[0mupper\u001b[0m\u001b[1;33m(\u001b[0m\u001b[1;33m)\u001b[0m\u001b[1;33m+\u001b[0m\u001b[0mj\u001b[0m\u001b[1;33m[\u001b[0m\u001b[1;36m1\u001b[0m\u001b[1;33m:\u001b[0m\u001b[1;33m]\u001b[0m\u001b[1;33m]\u001b[0m \u001b[1;33m+=\u001b[0m \u001b[0mi\u001b[0m\u001b[1;33m[\u001b[0m\u001b[1;34m'challenges'\u001b[0m\u001b[1;33m]\u001b[0m\u001b[1;33m[\u001b[0m\u001b[0mj\u001b[0m\u001b[1;33m]\u001b[0m\u001b[1;33m\u001b[0m\u001b[1;33m\u001b[0m\u001b[0m\n\u001b[0m\u001b[0;32m     77\u001b[0m                     \u001b[1;32mexcept\u001b[0m\u001b[1;33m:\u001b[0m\u001b[1;33m\u001b[0m\u001b[1;33m\u001b[0m\u001b[0m\n",
      "\u001b[1;31mKeyError\u001b[0m: 'avgEarlyLaningPhaseGoldExpAdvantage'",
      "\nDuring handling of the above exception, another exception occurred:\n",
      "\u001b[1;31mKeyError\u001b[0m                                  Traceback (most recent call last)",
      "\u001b[1;32m<ipython-input-67-4f786e1c7da9>\u001b[0m in \u001b[0;36m<module>\u001b[1;34m\u001b[0m\n\u001b[0;32m      2\u001b[0m \u001b[0mdata\u001b[0m \u001b[1;33m=\u001b[0m \u001b[1;33m[\u001b[0m\u001b[1;33m]\u001b[0m\u001b[1;33m\u001b[0m\u001b[1;33m\u001b[0m\u001b[0m\n\u001b[0;32m      3\u001b[0m \u001b[1;32mfor\u001b[0m \u001b[0mmatch_id\u001b[0m \u001b[1;32min\u001b[0m \u001b[0mmatch_list\u001b[0m\u001b[1;33m:\u001b[0m\u001b[1;33m\u001b[0m\u001b[1;33m\u001b[0m\u001b[0m\n\u001b[1;32m----> 4\u001b[1;33m     \u001b[0mdata\u001b[0m\u001b[1;33m.\u001b[0m\u001b[0mappend\u001b[0m\u001b[1;33m(\u001b[0m\u001b[0mget_row\u001b[0m\u001b[1;33m(\u001b[0m\u001b[0mmatch_id\u001b[0m\u001b[1;33m)\u001b[0m\u001b[1;33m)\u001b[0m\u001b[1;33m\u001b[0m\u001b[1;33m\u001b[0m\u001b[0m\n\u001b[0m\u001b[0;32m      5\u001b[0m \u001b[0mdf\u001b[0m \u001b[1;33m=\u001b[0m \u001b[0mpd\u001b[0m\u001b[1;33m.\u001b[0m\u001b[0mDataFrame\u001b[0m\u001b[1;33m(\u001b[0m\u001b[0mdata\u001b[0m\u001b[1;33m)\u001b[0m\u001b[1;33m\u001b[0m\u001b[1;33m\u001b[0m\u001b[0m\n\u001b[0;32m      6\u001b[0m \u001b[0mdf\u001b[0m\u001b[1;33m\u001b[0m\u001b[1;33m\u001b[0m\u001b[0m\n",
      "\u001b[1;32m<ipython-input-66-3d1461f3f5ed>\u001b[0m in \u001b[0;36mget_row\u001b[1;34m(match_id)\u001b[0m\n\u001b[0;32m     87\u001b[0m     \u001b[0mdata\u001b[0m \u001b[1;33m=\u001b[0m \u001b[1;33m{\u001b[0m\u001b[1;33m}\u001b[0m\u001b[1;33m\u001b[0m\u001b[1;33m\u001b[0m\u001b[0m\n\u001b[0;32m     88\u001b[0m     \u001b[0mdata\u001b[0m\u001b[1;33m.\u001b[0m\u001b[0mupdate\u001b[0m\u001b[1;33m(\u001b[0m\u001b[0mget_avgs\u001b[0m\u001b[1;33m(\u001b[0m\u001b[0mmatch\u001b[0m\u001b[1;33m)\u001b[0m\u001b[1;33m)\u001b[0m\u001b[1;33m\u001b[0m\u001b[1;33m\u001b[0m\u001b[0m\n\u001b[1;32m---> 89\u001b[1;33m     \u001b[0mdata\u001b[0m\u001b[1;33m.\u001b[0m\u001b[0mupdate\u001b[0m\u001b[1;33m(\u001b[0m\u001b[0mget_challenges\u001b[0m\u001b[1;33m(\u001b[0m\u001b[0mmatch\u001b[0m\u001b[1;33m)\u001b[0m\u001b[1;33m)\u001b[0m\u001b[1;33m\u001b[0m\u001b[1;33m\u001b[0m\u001b[0m\n\u001b[0m\u001b[0;32m     90\u001b[0m     \u001b[0mdata\u001b[0m\u001b[1;33m.\u001b[0m\u001b[0mupdate\u001b[0m\u001b[1;33m(\u001b[0m\u001b[0mget_team_objectives\u001b[0m\u001b[1;33m(\u001b[0m\u001b[0mmatch\u001b[0m\u001b[1;33m)\u001b[0m\u001b[1;33m)\u001b[0m\u001b[1;33m\u001b[0m\u001b[1;33m\u001b[0m\u001b[0m\n\u001b[0;32m     91\u001b[0m     \u001b[0mdata\u001b[0m\u001b[1;33m.\u001b[0m\u001b[0mupdate\u001b[0m\u001b[1;33m(\u001b[0m\u001b[0mget_duration\u001b[0m\u001b[1;33m(\u001b[0m\u001b[0mmatch\u001b[0m\u001b[1;33m)\u001b[0m\u001b[1;33m)\u001b[0m\u001b[1;33m\u001b[0m\u001b[1;33m\u001b[0m\u001b[0m\n",
      "\u001b[1;32m<ipython-input-66-3d1461f3f5ed>\u001b[0m in \u001b[0;36mget_challenges\u001b[1;34m(match)\u001b[0m\n\u001b[0;32m     76\u001b[0m                         \u001b[0mnew\u001b[0m\u001b[1;33m[\u001b[0m\u001b[1;34m'avg'\u001b[0m\u001b[1;33m+\u001b[0m\u001b[0mj\u001b[0m\u001b[1;33m[\u001b[0m\u001b[1;36m0\u001b[0m\u001b[1;33m]\u001b[0m\u001b[1;33m.\u001b[0m\u001b[0mupper\u001b[0m\u001b[1;33m(\u001b[0m\u001b[1;33m)\u001b[0m\u001b[1;33m+\u001b[0m\u001b[0mj\u001b[0m\u001b[1;33m[\u001b[0m\u001b[1;36m1\u001b[0m\u001b[1;33m:\u001b[0m\u001b[1;33m]\u001b[0m\u001b[1;33m]\u001b[0m \u001b[1;33m+=\u001b[0m \u001b[0mi\u001b[0m\u001b[1;33m[\u001b[0m\u001b[1;34m'challenges'\u001b[0m\u001b[1;33m]\u001b[0m\u001b[1;33m[\u001b[0m\u001b[0mj\u001b[0m\u001b[1;33m]\u001b[0m\u001b[1;33m\u001b[0m\u001b[1;33m\u001b[0m\u001b[0m\n\u001b[0;32m     77\u001b[0m                     \u001b[1;32mexcept\u001b[0m\u001b[1;33m:\u001b[0m\u001b[1;33m\u001b[0m\u001b[1;33m\u001b[0m\u001b[0m\n\u001b[1;32m---> 78\u001b[1;33m                         \u001b[0mnew\u001b[0m\u001b[1;33m[\u001b[0m\u001b[1;34m'avg'\u001b[0m\u001b[1;33m+\u001b[0m\u001b[0mj\u001b[0m\u001b[1;33m[\u001b[0m\u001b[1;36m0\u001b[0m\u001b[1;33m]\u001b[0m\u001b[1;33m.\u001b[0m\u001b[0mupper\u001b[0m\u001b[1;33m(\u001b[0m\u001b[1;33m)\u001b[0m\u001b[1;33m+\u001b[0m\u001b[0mj\u001b[0m\u001b[1;33m[\u001b[0m\u001b[1;36m1\u001b[0m\u001b[1;33m:\u001b[0m\u001b[1;33m]\u001b[0m\u001b[1;33m]\u001b[0m \u001b[1;33m=\u001b[0m \u001b[0mi\u001b[0m\u001b[1;33m[\u001b[0m\u001b[1;34m'challenges'\u001b[0m\u001b[1;33m]\u001b[0m\u001b[1;33m[\u001b[0m\u001b[0mj\u001b[0m\u001b[1;33m]\u001b[0m\u001b[1;33m\u001b[0m\u001b[1;33m\u001b[0m\u001b[0m\n\u001b[0m\u001b[0;32m     79\u001b[0m     \u001b[0mnew\u001b[0m\u001b[1;33m.\u001b[0m\u001b[0mupdate\u001b[0m\u001b[1;33m(\u001b[0m\u001b[1;33m(\u001b[0m\u001b[0mk\u001b[0m\u001b[1;33m,\u001b[0m \u001b[0mround\u001b[0m\u001b[1;33m(\u001b[0m\u001b[0mv\u001b[0m \u001b[1;33m*\u001b[0m \u001b[1;36m0.2\u001b[0m\u001b[1;33m,\u001b[0m \u001b[1;36m4\u001b[0m\u001b[1;33m)\u001b[0m\u001b[1;33m)\u001b[0m \u001b[1;32mfor\u001b[0m \u001b[0mk\u001b[0m\u001b[1;33m,\u001b[0m\u001b[0mv\u001b[0m \u001b[1;32min\u001b[0m \u001b[0mnew\u001b[0m\u001b[1;33m.\u001b[0m\u001b[0mitems\u001b[0m\u001b[1;33m(\u001b[0m\u001b[1;33m)\u001b[0m\u001b[1;33m)\u001b[0m\u001b[1;33m\u001b[0m\u001b[1;33m\u001b[0m\u001b[0m\n\u001b[0;32m     80\u001b[0m     \u001b[1;32mreturn\u001b[0m \u001b[0mnew\u001b[0m\u001b[1;33m\u001b[0m\u001b[1;33m\u001b[0m\u001b[0m\n",
      "\u001b[1;31mKeyError\u001b[0m: 'earlyLaningPhaseGoldExpAdvantage'"
     ]
    }
   ],
   "source": [
    "match_list = get_matchlist('Zealfire')\n",
    "data = []\n",
    "for match_id in match_list:\n",
    "    data.append(get_row(match_id))\n",
    "df = pd.DataFrame(data)\n",
    "df"
   ]
  },
  {
   "cell_type": "code",
   "execution_count": null,
   "metadata": {},
   "outputs": [],
   "source": []
  }
 ],
 "metadata": {
  "kernelspec": {
   "display_name": "Python 3",
   "language": "python",
   "name": "python3"
  },
  "language_info": {
   "codemirror_mode": {
    "name": "ipython",
    "version": 3
   },
   "file_extension": ".py",
   "mimetype": "text/x-python",
   "name": "python",
   "nbconvert_exporter": "python",
   "pygments_lexer": "ipython3",
   "version": "3.8.5"
  }
 },
 "nbformat": 4,
 "nbformat_minor": 4
}
