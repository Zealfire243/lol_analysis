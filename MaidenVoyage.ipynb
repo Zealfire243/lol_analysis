{
 "cells": [
  {
   "cell_type": "code",
   "execution_count": 1,
   "metadata": {},
   "outputs": [],
   "source": [
    "from riotwatcher import LolWatcher, ApiError\n",
    "import pandas as pd\n",
    "from standard_functions import getAPI"
   ]
  },
  {
   "cell_type": "markdown",
   "metadata": {},
   "source": [
    "Do not ever put API's in your repositories. I have mine in a local file and call it here."
   ]
  },
  {
   "cell_type": "code",
   "execution_count": 49,
   "metadata": {},
   "outputs": [],
   "source": [
    "myApi = getAPI()\n",
    "lol_watcher = LolWatcher(myApi)\n",
    "\n",
    "region = 'na1'\n",
    "match_id = 'NA1_4286956599'"
   ]
  },
  {
   "cell_type": "code",
   "execution_count": 3,
   "metadata": {},
   "outputs": [],
   "source": [
    "def get_puuid(name):\n",
    "    \"\"\"\n",
    "    Input is summoner name. Outputs players puuid.\n",
    "    \"\"\"\n",
    "    return lol_watcher.summoner.by_name(region, name)['puuid']\n",
    "def get_matchlist(name):\n",
    "    \"\"\"\n",
    "    Input is name. Output is list of matches.\n",
    "    \"\"\"\n",
    "    return lol_watcher.match.matchlist_by_puuid(region, get_puuid(name), count=100, type='ranked')"
   ]
  },
  {
   "cell_type": "code",
   "execution_count": 55,
   "metadata": {},
   "outputs": [],
   "source": [
    "def get_objectives(match_id):\n",
    "    obj = lol_watcher.match.by_id(region, match_id)['info']['teams'][0]['objectives']\n",
    "    new = {}\n",
    "    for k in obj:\n",
    "        for key in obj[k]:\n",
    "            new[k+'_'+key] = obj[k][key]\n",
    "    return new\n",
    "def get_win(match_id):\n",
    "    return {'win' : lol_watcher.match.by_id(region, match_id)['info']['teams'][0]['win']}"
   ]
  },
  {
   "cell_type": "code",
   "execution_count": 53,
   "metadata": {},
   "outputs": [
    {
     "data": {
      "text/plain": [
       "False"
      ]
     },
     "execution_count": 53,
     "metadata": {},
     "output_type": "execute_result"
    }
   ],
   "source": [
    "lol_watcher.match.by_id(region, match_id)['info']['teams'][0]['win']"
   ]
  },
  {
   "cell_type": "code",
   "execution_count": 58,
   "metadata": {},
   "outputs": [
    {
     "data": {
      "text/html": [
       "<div>\n",
       "<style scoped>\n",
       "    .dataframe tbody tr th:only-of-type {\n",
       "        vertical-align: middle;\n",
       "    }\n",
       "\n",
       "    .dataframe tbody tr th {\n",
       "        vertical-align: top;\n",
       "    }\n",
       "\n",
       "    .dataframe thead th {\n",
       "        text-align: right;\n",
       "    }\n",
       "</style>\n",
       "<table border=\"1\" class=\"dataframe\">\n",
       "  <thead>\n",
       "    <tr style=\"text-align: right;\">\n",
       "      <th></th>\n",
       "      <th>baron_first</th>\n",
       "      <th>baron_kills</th>\n",
       "      <th>champion_first</th>\n",
       "      <th>champion_kills</th>\n",
       "      <th>dragon_first</th>\n",
       "      <th>dragon_kills</th>\n",
       "      <th>inhibitor_first</th>\n",
       "      <th>inhibitor_kills</th>\n",
       "      <th>riftHerald_first</th>\n",
       "      <th>riftHerald_kills</th>\n",
       "      <th>tower_first</th>\n",
       "      <th>tower_kills</th>\n",
       "      <th>win</th>\n",
       "    </tr>\n",
       "  </thead>\n",
       "  <tbody>\n",
       "    <tr>\n",
       "      <th>0</th>\n",
       "      <td>True</td>\n",
       "      <td>1</td>\n",
       "      <td>True</td>\n",
       "      <td>34</td>\n",
       "      <td>True</td>\n",
       "      <td>2</td>\n",
       "      <td>True</td>\n",
       "      <td>2</td>\n",
       "      <td>True</td>\n",
       "      <td>2</td>\n",
       "      <td>True</td>\n",
       "      <td>10</td>\n",
       "      <td>True</td>\n",
       "    </tr>\n",
       "  </tbody>\n",
       "</table>\n",
       "</div>"
      ],
      "text/plain": [
       "   baron_first  baron_kills  champion_first  champion_kills  dragon_first  \\\n",
       "0         True            1            True              34          True   \n",
       "\n",
       "   dragon_kills  inhibitor_first  inhibitor_kills  riftHerald_first  \\\n",
       "0             2             True                2              True   \n",
       "\n",
       "   riftHerald_kills  tower_first  tower_kills   win  \n",
       "0                 2         True           10  True  "
      ]
     },
     "execution_count": 58,
     "metadata": {},
     "output_type": "execute_result"
    }
   ],
   "source": [
    "data = get_objectives('NA1_4270310445')\n",
    "data.update(get_win('NA1_4270310445'))\n",
    "pd.DataFrame([data])"
   ]
  },
  {
   "cell_type": "code",
   "execution_count": 39,
   "metadata": {},
   "outputs": [],
   "source": [
    "summoners = ['Zealfire', 'SmurfHD', 'DumbAmerican', 'About 10 Inches', 'Exprience', 'Leaders1', \n",
    "             'Kehlee', 'KybitOW', 'DodoMuncher', 'Mango Bleach']"
   ]
  },
  {
   "cell_type": "code",
   "execution_count": 4,
   "metadata": {
    "scrolled": true
   },
   "outputs": [
    {
     "data": {
      "text/plain": [
       "['NA1_4348171334',\n",
       " 'NA1_4289259129',\n",
       " 'NA1_4287742329',\n",
       " 'NA1_4287694201',\n",
       " 'NA1_4287648113',\n",
       " 'NA1_4286956599',\n",
       " 'NA1_4286785334',\n",
       " 'NA1_4286667294',\n",
       " 'NA1_4285375587',\n",
       " 'NA1_4285360882',\n",
       " 'NA1_4285334783',\n",
       " 'NA1_4285247595',\n",
       " 'NA1_4284641450',\n",
       " 'NA1_4284573748',\n",
       " 'NA1_4282617016',\n",
       " 'NA1_4282651208',\n",
       " 'NA1_4282568419',\n",
       " 'NA1_4282560428',\n",
       " 'NA1_4279275380',\n",
       " 'NA1_4279290874',\n",
       " 'NA1_4272162489',\n",
       " 'NA1_4270474097',\n",
       " 'NA1_4270373912',\n",
       " 'NA1_4270325535',\n",
       " 'NA1_4270310445',\n",
       " 'NA1_4269678873',\n",
       " 'NA1_4269623819',\n",
       " 'NA1_4265939472',\n",
       " 'NA1_4265052963',\n",
       " 'NA1_4265007120',\n",
       " 'NA1_4265011466',\n",
       " 'NA1_4264596019',\n",
       " 'NA1_4264558755',\n",
       " 'NA1_4263428731',\n",
       " 'NA1_4262510186',\n",
       " 'NA1_4262424973',\n",
       " 'NA1_4259122335',\n",
       " 'NA1_4259076750',\n",
       " 'NA1_4258616238',\n",
       " 'NA1_4257716745',\n",
       " 'NA1_4251471488',\n",
       " 'NA1_4248601449',\n",
       " 'NA1_4248509505',\n",
       " 'NA1_4247935338',\n",
       " 'NA1_4243646495',\n",
       " 'NA1_4242625676',\n",
       " 'NA1_4242377491',\n",
       " 'NA1_4242051531',\n",
       " 'NA1_4241728549',\n",
       " 'NA1_4241732889',\n",
       " 'NA1_4240856758',\n",
       " 'NA1_4240829863',\n",
       " 'NA1_4239866975',\n",
       " 'NA1_4239483955',\n",
       " 'NA1_4239371148',\n",
       " 'NA1_4239356146',\n",
       " 'NA1_4236826656',\n",
       " 'NA1_4236657270',\n",
       " 'NA1_4236561460',\n",
       " 'NA1_4236372924',\n",
       " 'NA1_4236351019',\n",
       " 'NA1_4234919674',\n",
       " 'NA1_4234943834',\n",
       " 'NA1_4234172320',\n",
       " 'NA1_4234098265',\n",
       " 'NA1_4232440783',\n",
       " 'NA1_4232042964',\n",
       " 'NA1_4231988565',\n",
       " 'NA1_4230977447',\n",
       " 'NA1_4230972293',\n",
       " 'NA1_4229763958',\n",
       " 'NA1_4229544248',\n",
       " 'NA1_4229534279',\n",
       " 'NA1_4228662513',\n",
       " 'NA1_4228634418',\n",
       " 'NA1_4215542159',\n",
       " 'NA1_4215537713',\n",
       " 'NA1_4215524056',\n",
       " 'NA1_4215075407',\n",
       " 'NA1_4213674593',\n",
       " 'NA1_4213617974',\n",
       " 'NA1_4213539679',\n",
       " 'NA1_4212627702',\n",
       " 'NA1_4209230371',\n",
       " 'NA1_4209172399',\n",
       " 'NA1_4209076101',\n",
       " 'NA1_4207882893',\n",
       " 'NA1_4207838311',\n",
       " 'NA1_4207769192',\n",
       " 'NA1_4207741472',\n",
       " 'NA1_4207392070',\n",
       " 'NA1_4205217788',\n",
       " 'NA1_4205177137',\n",
       " 'NA1_4205151290',\n",
       " 'NA1_4205073122',\n",
       " 'NA1_4205025589',\n",
       " 'NA1_4204946319',\n",
       " 'NA1_4204952025',\n",
       " 'NA1_4201495248',\n",
       " 'NA1_4201430413']"
      ]
     },
     "execution_count": 4,
     "metadata": {},
     "output_type": "execute_result"
    }
   ],
   "source": [
    "get_matchlist('Zealfire')"
   ]
  },
  {
   "cell_type": "code",
   "execution_count": 6,
   "metadata": {},
   "outputs": [
    {
     "data": {
      "text/html": [
       "<div>\n",
       "<style scoped>\n",
       "    .dataframe tbody tr th:only-of-type {\n",
       "        vertical-align: middle;\n",
       "    }\n",
       "\n",
       "    .dataframe tbody tr th {\n",
       "        vertical-align: top;\n",
       "    }\n",
       "\n",
       "    .dataframe thead th {\n",
       "        text-align: right;\n",
       "    }\n",
       "</style>\n",
       "<table border=\"1\" class=\"dataframe\">\n",
       "  <thead>\n",
       "    <tr style=\"text-align: right;\">\n",
       "      <th></th>\n",
       "      <th>gameCreation</th>\n",
       "      <th>gameDuration</th>\n",
       "      <th>gameEndTimestamp</th>\n",
       "      <th>gameId</th>\n",
       "      <th>gameMode</th>\n",
       "      <th>gameName</th>\n",
       "      <th>gameStartTimestamp</th>\n",
       "      <th>gameType</th>\n",
       "      <th>gameVersion</th>\n",
       "      <th>mapId</th>\n",
       "      <th>participants</th>\n",
       "      <th>platformId</th>\n",
       "      <th>queueId</th>\n",
       "      <th>teams</th>\n",
       "      <th>tournamentCode</th>\n",
       "    </tr>\n",
       "  </thead>\n",
       "  <tbody>\n",
       "    <tr>\n",
       "      <th>0</th>\n",
       "      <td>1643938709000</td>\n",
       "      <td>1555</td>\n",
       "      <td>1643940333289</td>\n",
       "      <td>4205025589</td>\n",
       "      <td>CLASSIC</td>\n",
       "      <td>teambuilder-match-4205025589</td>\n",
       "      <td>1643938777865</td>\n",
       "      <td>MATCHED_GAME</td>\n",
       "      <td>12.3.421.5967</td>\n",
       "      <td>11</td>\n",
       "      <td>[{'assists': 3, 'baronKills': 0, 'bountyLevel'...</td>\n",
       "      <td>NA1</td>\n",
       "      <td>420</td>\n",
       "      <td>[{'bans': [{'championId': 223, 'pickTurn': 1},...</td>\n",
       "      <td></td>\n",
       "    </tr>\n",
       "  </tbody>\n",
       "</table>\n",
       "</div>"
      ],
      "text/plain": [
       "    gameCreation  gameDuration  gameEndTimestamp      gameId gameMode  \\\n",
       "0  1643938709000          1555     1643940333289  4205025589  CLASSIC   \n",
       "\n",
       "                       gameName  gameStartTimestamp      gameType  \\\n",
       "0  teambuilder-match-4205025589       1643938777865  MATCHED_GAME   \n",
       "\n",
       "     gameVersion  mapId                                       participants  \\\n",
       "0  12.3.421.5967     11  [{'assists': 3, 'baronKills': 0, 'bountyLevel'...   \n",
       "\n",
       "  platformId  queueId                                              teams  \\\n",
       "0        NA1      420  [{'bans': [{'championId': 223, 'pickTurn': 1},...   \n",
       "\n",
       "  tournamentCode  \n",
       "0                 "
      ]
     },
     "execution_count": 6,
     "metadata": {},
     "output_type": "execute_result"
    }
   ],
   "source": [
    "pd.DataFrame([lol_watcher.match.by_id(region, 'NA1_4205025589')['info']])"
   ]
  },
  {
   "cell_type": "code",
   "execution_count": null,
   "metadata": {},
   "outputs": [],
   "source": [
    "pd.DataFrame([lol_watcher.match.by_id(region, 'NA1_NA1_4205025589')['info']['participants'][0]])"
   ]
  },
  {
   "cell_type": "code",
   "execution_count": null,
   "metadata": {},
   "outputs": [],
   "source": [
    "data = lol_watcher.league.entries(region, queue='RANKED_SOLO_5x5', tier='GOLD', division='II', page=500)\n",
    "len(data)"
   ]
  },
  {
   "cell_type": "code",
   "execution_count": 25,
   "metadata": {},
   "outputs": [
    {
     "data": {
      "text/plain": [
       "dict_keys(['gameCreation', 'gameDuration', 'gameEndTimestamp', 'gameId', 'gameMode', 'gameName', 'gameStartTimestamp', 'gameType', 'gameVersion', 'mapId', 'participants', 'platformId', 'queueId', 'teams', 'tournamentCode'])"
      ]
     },
     "execution_count": 25,
     "metadata": {},
     "output_type": "execute_result"
    }
   ],
   "source": [
    "lol_watcher.match.by_id(region, 'NA1_4205025589')['info'].keys()"
   ]
  },
  {
   "cell_type": "code",
   "execution_count": 26,
   "metadata": {},
   "outputs": [
    {
     "data": {
      "text/plain": [
       "{'bans': [{'championId': 223, 'pickTurn': 1},\n",
       "  {'championId': 25, 'pickTurn': 2},\n",
       "  {'championId': 84, 'pickTurn': 3},\n",
       "  {'championId': 81, 'pickTurn': 4},\n",
       "  {'championId': 38, 'pickTurn': 5}],\n",
       " 'objectives': {'baron': {'first': False, 'kills': 0},\n",
       "  'champion': {'first': False, 'kills': 20},\n",
       "  'dragon': {'first': False, 'kills': 0},\n",
       "  'inhibitor': {'first': False, 'kills': 0},\n",
       "  'riftHerald': {'first': False, 'kills': 0},\n",
       "  'tower': {'first': False, 'kills': 2}},\n",
       " 'teamId': 100,\n",
       " 'win': False}"
      ]
     },
     "execution_count": 26,
     "metadata": {},
     "output_type": "execute_result"
    }
   ],
   "source": [
    "lol_watcher.match.by_id(region, 'NA1_4205025589')['info']['teams'][0]"
   ]
  },
  {
   "cell_type": "code",
   "execution_count": null,
   "metadata": {},
   "outputs": [],
   "source": [
    "lol_watcher.match.by_id(region, 'NA1_4205025589')['info']['teams'][0]['objectives'].keys()"
   ]
  },
  {
   "cell_type": "code",
   "execution_count": null,
   "metadata": {},
   "outputs": [],
   "source": [
    "pd.DataFrame(lol_watcher.match.by_id(region, 'NA1_4205025589')['info']['teams'][0]['objectives'])"
   ]
  },
  {
   "cell_type": "code",
   "execution_count": null,
   "metadata": {},
   "outputs": [],
   "source": [
    "pd.DataFrame(lol_watcher.match.timeline_by_match(region, 'NA1_4205025589')['info']['frames'])"
   ]
  },
  {
   "cell_type": "code",
   "execution_count": null,
   "metadata": {},
   "outputs": [],
   "source": [
    "pd.DataFrame.rename()"
   ]
  },
  {
   "cell_type": "code",
   "execution_count": 50,
   "metadata": {},
   "outputs": [],
   "source": [
    "obj = lol_watcher.match.by_id(region, match_id)['info']['teams'][0]['objectives']"
   ]
  },
  {
   "cell_type": "code",
   "execution_count": 51,
   "metadata": {},
   "outputs": [
    {
     "data": {
      "text/plain": [
       "{'baron': {'first': True, 'kills': 1},\n",
       " 'champion': {'first': True, 'kills': 41},\n",
       " 'dragon': {'first': False, 'kills': 0},\n",
       " 'inhibitor': {'first': False, 'kills': 0},\n",
       " 'riftHerald': {'first': True, 'kills': 1},\n",
       " 'tower': {'first': False, 'kills': 5}}"
      ]
     },
     "execution_count": 51,
     "metadata": {},
     "output_type": "execute_result"
    }
   ],
   "source": [
    "obj"
   ]
  },
  {
   "cell_type": "code",
   "execution_count": null,
   "metadata": {},
   "outputs": [],
   "source": []
  }
 ],
 "metadata": {
  "kernelspec": {
   "display_name": "Python 3",
   "language": "python",
   "name": "python3"
  },
  "language_info": {
   "codemirror_mode": {
    "name": "ipython",
    "version": 3
   },
   "file_extension": ".py",
   "mimetype": "text/x-python",
   "name": "python",
   "nbconvert_exporter": "python",
   "pygments_lexer": "ipython3",
   "version": "3.8.5"
  }
 },
 "nbformat": 4,
 "nbformat_minor": 4
}
